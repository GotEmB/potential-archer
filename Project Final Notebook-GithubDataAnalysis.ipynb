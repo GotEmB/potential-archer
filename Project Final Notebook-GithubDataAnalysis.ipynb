{
 "metadata": {
  "name": "",
  "signature": "sha256:77470c0aa0aa6d772d26910b9b9858bd341d7df56a03481aa53b24a4c989ac91"
 },
 "nbformat": 3,
 "nbformat_minor": 0,
 "worksheets": [
  {
   "cells": [
    {
     "cell_type": "heading",
     "level": 1,
     "metadata": {},
     "source": [
      "Course Project Notebook"
     ]
    },
    {
     "cell_type": "heading",
     "level": 2,
     "metadata": {},
     "source": [
      "Team Members"
     ]
    },
    {
     "cell_type": "markdown",
     "metadata": {},
     "source": [
      "\n",
      "<b>Aravindan Balan</b> (aravindan@cs.ucla.edu)\n",
      "\n",
      "<b>Aravind Ganapathy</b> (ag1990@cs.ucla.edu)\n",
      "\n",
      "<b>Gautham Badhrinathan</b> (gotemb@cs.ucla.edu)\n",
      "\n",
      "<b>Manoj Thakur</b> (manojrthakur@cs.ucla.edu)\n",
      "\n",
      "<b>Praphull Kumar</b> (praphull@cs.ucla.edu)"
     ]
    },
    {
     "cell_type": "heading",
     "level": 2,
     "metadata": {},
     "source": [
      "Project Goal and Motivation"
     ]
    },
    {
     "cell_type": "markdown",
     "metadata": {},
     "source": [
      "GitHub is a rich source of skillful developers for your next startup, it is also a good place to figure out which language you would want to use for your next startup. \n",
      "\n",
      "But the questions to ask are:\n",
      "<ul>\n",
      "<p><b>Developers</b></p>\n",
      "<li>How do we identify potential useful developers for a particular skillset?</li><br/>\n",
      "<b>Languages</b><br/>\n",
      "<li>How effective is a language?</li>\n",
      "<li>How accesible is a language?</li>\n",
      "<li> How impactful is a language?</li>\n",
      "</ul>\n",
      "\n",
      "<ul>\n",
      "<br/>\n",
      "The goal of the project was to carry out data analysis on a subset of git repositories; Our goal was to analyze the trend in activities and the impact of those activities on a particular repository. The analysis is performed for each developer per programming language basis (the language the developer is actively working on). <br/> <br/>\n",
      "\n",
      "<li><b>Language perspective Analysis:</b></li><br/>\n",
      "\n",
      "<b>Forks :</b><br/>\n",
      "We took forks as measure of accessibility; Users fork repositories they feel they can actually contribute to. Consequently we felt that languages that form a high proportion of these highly forked repositories were more accessible, as they correspond to \"easier\" projects\" and learning them, allows devlopers to make an immediate contribution. <br/><br/>\n",
      "\n",
      "<b>Stars :</b><br/>\n",
      "Similarly we judged languages that were used in highly starred repositories to be more effective. We assumed that more stars meant the project quality was higher, and therefore certain lnguages are mediums to create better quality projects. <br/> <br/>\n",
      "\n",
      "For developers we sought metrics to determine their experience and quality. As a proxy for experience in a particular language we  came up with the metric <b>\"contribution ratio\"</b>; this was the number of lines contributed by a developer over all lines contributed in that language. <br/> <br/>\n",
      "\n",
      " <li><b> Developer Analysis:</b></li>\n",
      "\n",
      "For a developer's skill in a language we looked at his commits individually, summing the stars of the repository contributed to by the developer weighted by the proportion of the repository written in that language. The idea was that contributions to a highly starred repository would have to be up to some standard of quality, or else they'd be rolled back. Using these metrics we try to address the questions posed above for developers. <br/>\n",
      "\n",
      "This metric indicates the amount of contribution of a developer towards a particular language.<br/>\n",
      "\n",
      "We also analyze the relationship between repository popularity and it's attributes. This analysis provides an indication of which factors contribute to high number of followers, forks, pull requests and watchers for a repository. <br/>\n",
      "\n",
      "<ul>\n"
     ]
    },
    {
     "cell_type": "heading",
     "level": 2,
     "metadata": {},
     "source": [
      "Github DataSet"
     ]
    },
    {
     "cell_type": "markdown",
     "metadata": {},
     "source": [
      "We have analyzed the data from GitHub. The data was collected using the GitHub APIs [1]. The data is stored in the following format:\n",
      "\n",
      "<ul>\n",
      "<li>\n",
      "<b>Developer contribution information :</b> For each developer we store the repositories he has contributed to. In each of these repositories we store the activity information like the number of lines of code modified by the user, the timestamp of the change, corresponding to which programming language was the change made. This data helped us identify the contribution and impact of a developer to a particular programming language.\n",
      "</li>\n",
      "<br/>\n",
      "<li>\n",
      "<b>Repository information : </b> For each repository we store attributes like the programming languages involved, number of contributors, stars, number of forks. This information helped us to infer popular and easy languages. This information can enable an individual to decide on which programming language to use for a particular project.\n",
      "</li>\n",
      "</ul>"
     ]
    },
    {
     "cell_type": "heading",
     "level": 2,
     "metadata": {},
     "source": [
      "Project Stages"
     ]
    },
    {
     "cell_type": "markdown",
     "metadata": {},
     "source": [
      "The project is divided into three main stages:\n",
      "<ul>\n",
      "<li><b>Data Collection  Stage</b>: This stage involves data retrieval from GitHub APIs. The code for this stage is written CoffeeScript.</li>\n",
      "<li><b>Data Pre-processing Stage</b>: This stage involves creation of additional collections in mongodb from the collections obtained in previous stage. The collections creates in this stage are used for data analysis stage. The code in this stage is also written in coffeescript.</li>\n",
      "<li><b>Data Analysis Stage</b>: This stage involves analyzing the informaion collected to find trends in the information especially related to programming languages and developers. Most of the analysis code is written in R</li>\n",
      "</ul>"
     ]
    },
    {
     "cell_type": "heading",
     "level": 2,
     "metadata": {},
     "source": [
      "Github Dataset Schema"
     ]
    },
    {
     "cell_type": "markdown",
     "metadata": {},
     "source": [
      "The data collected contains three main parts:"
     ]
    },
    {
     "cell_type": "heading",
     "level": 3,
     "metadata": {},
     "source": [
      "Users"
     ]
    },
    {
     "cell_type": "raw",
     "metadata": {},
     "source": [
      "Users correspond to developers who have committed to the repositories that exist in our data set\n",
      "\n",
      "Schema\n",
      "\n",
      "{\n",
      "    username: type: String, index: true,\n",
      "    languages: [\n",
      "        language: String,\n",
      "        temporal: [\n",
      "            period: String,\n",
      "            changes: Number,\n",
      "        ]\n",
      "    ],\n",
      "    starsEarned: Number,\n",
      "    followers: Number\n",
      "}\n",
      "\n",
      "Count: 43750 users"
     ]
    },
    {
     "cell_type": "heading",
     "level": 3,
     "metadata": {},
     "source": [
      "Repositories"
     ]
    },
    {
     "cell_type": "raw",
     "metadata": {},
     "source": [
      "Repositories (projects) for which we have information in our dataset\n",
      "\n",
      "Schema\n",
      "\n",
      "{\n",
      "\tfullName: type: String, index: true,\n",
      "\tstars: Number,\n",
      "\tforks: Number,\n",
      "\tcontributors: [\n",
      "\t\tuser: type: mongoose.Schema.ObjectId, ref: \"User\",\n",
      "\t\tweight: Number\n",
      "\t]\n",
      "\tlanguages: [\n",
      "\t\tlanguage: String,\n",
      "\t\tlineCount: Number\n",
      "\t],\n",
      "\t(*) done: Boolean, \n",
      "\t(*) instanceId: String,\n",
      "\t(*) serverError: Boolean\n",
      "}\n",
      "\n",
      "Count: 805 repositories"
     ]
    },
    {
     "cell_type": "heading",
     "level": 3,
     "metadata": {},
     "source": [
      "Commits"
     ]
    },
    {
     "cell_type": "raw",
     "metadata": {},
     "source": [
      "Commits made by developers to the repositories that exist in our dataset \n",
      "\n",
      "Schema\n",
      "\n",
      "{\n",
      "\tsha: type: String, index: true,\n",
      "\tauthor: type: mongoose.Schema.ObjectId, ref: \"User\",\n",
      "\trepository: type: mongoose.Schema.ObjectId, ref: \"Repository\",\n",
      "\tchanges: [\n",
      "\t\tlanguage: String,\n",
      "\t\tcount: Number\n",
      "\t],\n",
      "\ttimestamp: Date\n",
      "}\n",
      "\n",
      "Count: 1385028 commits"
     ]
    },
    {
     "cell_type": "heading",
     "level": 2,
     "metadata": {},
     "source": [
      "Derived Collections"
     ]
    },
    {
     "cell_type": "markdown",
     "metadata": {},
     "source": [
      "Apart from the entities mentioned above we require additional information that is derived from the above mentioned collections. These are used in the analysis stage."
     ]
    },
    {
     "cell_type": "heading",
     "level": 3,
     "metadata": {},
     "source": [
      "User Average Weight"
     ]
    },
    {
     "cell_type": "raw",
     "metadata": {},
     "source": [
      "Average contribution of a user across all the repositories that he/she contributes to\n",
      "\n",
      "Schema:\n",
      "{\n",
      "\tauthor: type: mongoose.Schema.ObjectId, ref: \"User\",\n",
      "\tweight: Number\n",
      "}"
     ]
    },
    {
     "cell_type": "heading",
     "level": 3,
     "metadata": {},
     "source": [
      "User Commit Activity"
     ]
    },
    {
     "cell_type": "raw",
     "metadata": {},
     "source": [
      "Total contribution of a user to a particular repository for a particular language\n",
      "\n",
      "Schema:\n",
      "{\n",
      "\tauthor: type: mongoose.Schema.ObjectId, ref: \"User\",\n",
      "\trepository: type: mongoose.Schema.ObjectId, ref: \"Repository\",\n",
      "\tlanguage: String,\n",
      "\tchanges: Number\n",
      "}"
     ]
    },
    {
     "cell_type": "heading",
     "level": 3,
     "metadata": {},
     "source": [
      "Repository Commit Activity"
     ]
    },
    {
     "cell_type": "raw",
     "metadata": {},
     "source": [
      "Total changes made to a repository for each language\n",
      "\n",
      "Schema:\n",
      "{\n",
      "\trepository: type: mongoose.Schema.ObjectId, ref: \"Repository\",\n",
      "\tlanguage: String,\n",
      "\tchanges: Number\n",
      "}"
     ]
    },
    {
     "cell_type": "heading",
     "level": 3,
     "metadata": {},
     "source": [
      "Contribution Ratio"
     ]
    },
    {
     "cell_type": "raw",
     "metadata": {},
     "source": [
      "For each user contribution score (contribution ratio) for each language that the user has contributed to\n",
      "\n",
      "ContributionRatio\n",
      "{\n",
      "\tauthor: type: mongoose.Schema.ObjectId, ref: \"User\",\n",
      "\tcontribution_ratio: [\n",
      "\t\tlanguage: String,\n",
      "\t\tratio: Number\n",
      "\t]\n",
      "}"
     ]
    },
    {
     "cell_type": "heading",
     "level": 2,
     "metadata": {},
     "source": [
      "Function Stack"
     ]
    },
    {
     "cell_type": "markdown",
     "metadata": {},
     "source": [
      "<img src=\"images/Stack.001.png\" width = 900 height=900>"
     ]
    },
    {
     "cell_type": "heading",
     "level": 2,
     "metadata": {},
     "source": [
      "Libraries Used"
     ]
    },
    {
     "cell_type": "markdown",
     "metadata": {},
     "source": [
      "We have used some packages for reading and playing with the data.\n",
      "\n",
      "<b>RMongo</b> and <b>rmongodb</b> are packages used to read data from the mongodb. \n",
      "\n",
      "rmongodb - http://cran.r-project.org/web/packages/rmongodb/rmongodb.pdf\n",
      "\n",
      "Rmongo -   http://cran.r-project.org/web/packages/RMongo/RMongo.pdf\n",
      "\n",
      "We have also used the most powerful package for data analysis <b>\"plyr\"</b> in R to perform split, apply and combine functions on the data frames created. \n",
      "\n",
      "We found that <b>plyr</b> very useful and powerful for performing those operations on our huge dataset."
     ]
    },
    {
     "cell_type": "code",
     "collapsed": false,
     "input": [
      "%load_ext rmagic\n",
      "import rpy2 as Rpy"
     ],
     "language": "python",
     "metadata": {},
     "outputs": [
      {
       "output_type": "stream",
       "stream": "stdout",
       "text": [
        "The rmagic extension is already loaded. To reload it, use:\n",
        "  %reload_ext rmagic\n"
       ]
      }
     ],
     "prompt_number": 14
    },
    {
     "cell_type": "code",
     "collapsed": false,
     "input": [
      "%%R\n",
      "\n",
      "###################### libraries used ##############################################\n",
      "not.installed=function(package_name)  !is.element(package_name,installed.packages()[,1])\n",
      "\n",
      "\n",
      "if (not.installed(\"rmongodb\")) \n",
      "  install.packages(\"rmongodb\")\n",
      "if (not.installed(\"reshape2\")) \n",
      "  install.packages(\"reshape2\")\n",
      "if (not.installed(\"data.table\")) \n",
      "  install.packages(\"data.table\")\n",
      "if (not.installed(\"plyr\")) \n",
      "  install.packages(\"plyr\")\n",
      "if (not.installed(\"ggplot2\")) \n",
      "  install.packages(\"ggplot2\")\n",
      "if (not.installed(\"RMongo\"))\n",
      "  install.packages(\"RMongo\")\n",
      "if (not.installed(\"hash\"))\n",
      "  install.packages(\"hash\")\n",
      "\n",
      "if (not.installed(\"graphics\"))\n",
      "  install.packages(\"graphics\")\n",
      "\n",
      "if (not.installed(\"fpc\"))\n",
      "  install.packages(\"fpc\")\n",
      "if (not.installed(\"cluster\"))\n",
      "  install.packages(\"cluster\")\n",
      "\n",
      "library(\"fpc\")\n",
      "\n",
      "library(\"graphics\")\n",
      "library(\"stringr\")\n",
      "library(\"rjson\") \n",
      "library(\"ggplot2\") \n",
      "library(\"rmongodb\") \n",
      "library(\"reshape2\") \n",
      "library(\"MASS\") \n",
      "library(\"plyr\")\n",
      "library(\"RMongo\")\n",
      "library(\"hash\")\n",
      "require(\"data.table\")\n",
      "library(\"cluster\")\n",
      "library(\"HSAUR\")\n",
      "library(\"plyr\")\n"
     ],
     "language": "python",
     "metadata": {},
     "outputs": [],
     "prompt_number": 15
    },
    {
     "cell_type": "code",
     "collapsed": false,
     "input": [
      "%%R\n",
      "\n",
      "##################### Utility Functions ###########################\n",
      "find_stars_lang <- function(df, repo, lang)\n",
      "{\n",
      "  lang <- tolower(lang)\n",
      "  \n",
      "  ret <- 0\n",
      "  for(i in 1:nrow(df))\n",
      "  {\n",
      "    if(toString(df[i,1]) == repo && lang == tolower(toString(df[i,5])))\n",
      "    {\n",
      "      ret <- df[i,8]\n",
      "    }\n",
      "  }\n",
      "  ret\n",
      "}\n",
      "\n",
      "#find_forks_lang(ddply_sum_lineCount, \"537fc5b7280ef15170b56d3b\", \"js\")\n",
      "\n",
      "find_forks_lang <- function(df, repo, lang)\n",
      "{\n",
      "  ret <- 0\n",
      "  for(i in 1:nrow(df))\n",
      "  {\n",
      "    if(toString(df[i,1]) == repo && lang == toString(df[i,5]))\n",
      "    {\n",
      "      ret <- df[i,9]\n",
      "    }\n",
      "  }\n",
      "  ret\n",
      "}\n",
      "\n",
      "find_lang_contrib_ratio <- function(bs, lang)\n",
      "{\n",
      "  lang = tolower(lang)\n",
      "  c_ratios <- mongo.bson.value(bs,\"contribution_ratio\")\n",
      "  ratio <- 0\n",
      "  for(i in 1:length(c_ratios))\n",
      "  {\n",
      "    if(!is.null(c_ratios[i][[1]]$language) && tolower(c_ratios[i][[1]]$language) == lang)\n",
      "    {\n",
      "      \n",
      "       ratio <- c_ratios[i][[1]]$ratio\n",
      "    }\n",
      "  }\n",
      "  ratio\n",
      "}\n",
      "\n",
      "#################################################################################\n",
      "x=1"
     ],
     "language": "python",
     "metadata": {},
     "outputs": [],
     "prompt_number": 16
    },
    {
     "cell_type": "heading",
     "level": 2,
     "metadata": {},
     "source": [
      "Languages Analysis"
     ]
    },
    {
     "cell_type": "markdown",
     "metadata": {},
     "source": [
      "The analysis for a particular language is based on two main aspects:\n",
      "<ul>\n",
      "<li><b>Average popularity </b>: it signifies how popular a programming language is. This is mainly calculated by performing the following steps: <br>\n",
      "    <ul>\n",
      "        <li>For each language find all repositories that have code in that language</li>\n",
      "        <li>For each of these repositories find what percent of the code is written in that language</li>\n",
      "        <li>Multiply the stars earned by that repository by the ratio found above</li>\n",
      "        <li>Sum all the values calculated in above step</li>\n",
      "    </ul>    \n",
      "</li>\n",
      "<li><b>Average accessibility</b>: it signifies how accessible or how widely accepted in terms of coding is a programming language. This is mainly calculated by performing the following steps: <br>\n",
      "    Follow the same steps as above except that consider the forks instead of stars earned by the repository.\n",
      "</li>\n",
      "</ul>\n",
      "\n",
      "Plotting languages in a 2-dimensional space where one dimension is avg. popularity and other is avg. accessibiliy gives an indication of <b>how effective a particular language is.</b>"
     ]
    },
    {
     "cell_type": "heading",
     "level": 3,
     "metadata": {},
     "source": [
      "Number of Unique Languages : 145 "
     ]
    },
    {
     "cell_type": "code",
     "collapsed": false,
     "input": [
      "%%R -w 700 -h 500\n",
      "\n",
      "##find all unique languages\n",
      "get_all_lang <- function()\n",
      "{\n",
      "  mongo <- mongoDbConnect(\"dataset\", host=\"localhost\")\n",
      "  output <- dbAggregate(mongo, \"commits\", c('{ \"$unwind\" : \"$changes\"}',\n",
      "                                            ' { \"$project\" : { \"lang\" : \"$changes.language\" } } ',\n",
      "                                            ' { \"$group\" : { \"_id\" : \"$lang\" } } '))\n",
      "  \n",
      "  Languages_All <- c()\n",
      "  for(i in 1:length(output))\n",
      "  {\n",
      "    bson <- mongo.bson.from.JSON(output[i])\n",
      "    lang <- mongo.bson.value(bson,\"_id\")\n",
      "    if(!is.null(lang) && nchar(lang) > 0)\n",
      "      Languages_All <- c(Languages_All, lang)\n",
      "  }\n",
      "  \n",
      "  unique_languages <- unique(Languages_All)\n",
      "  unique_languages\n",
      "}\n",
      "#######\n",
      "\n",
      "# contains all the languages\n",
      "\n",
      "unique_languages <- get_all_lang()\n",
      "print((unique_languages))\n",
      "print(length(unique_languages))"
     ],
     "language": "python",
     "metadata": {},
     "outputs": [
      {
       "metadata": {},
       "output_type": "display_data",
       "text": [
        "  [1] \"Boo\"                   \"Brainfuck\"             \"Slash\"                \n",
        "  [4] \"Processing\"            \"MediaWiki\"             \"FLUX\"                 \n",
        "  [7] \"CLIPS\"                 \"Gentoo Ebuild\"         \"Ada\"                  \n",
        " [10] \"Volt\"                  \"mupad\"                 \"Shell\"                \n",
        " [13] \"Io\"                    \"Vala\"                  \"Common Lisp\"          \n",
        " [16] \"FORTRAN\"               \"GLSL\"                  \"ActionScript\"         \n",
        " [19] \"JSONiq\"                \"XS\"                    \"QML\"                  \n",
        " [22] \"Frege\"                 \"Creole\"                \"ColdFusion\"           \n",
        " [25] \"Pascal\"                \"Rust\"                  \"Julia\"                \n",
        " [28] \"PowerShell\"            \"CSS\"                   \"INI\"                  \n",
        " [31] \"AutoHotkey\"            \"Prolog\"                \"Protocol Buffer\"      \n",
        " [34] \"Kotlin\"                \"Diff\"                  \"Cython\"               \n",
        " [37] \"Haxe\"                  \"MoonScript\"            \"Haskell\"              \n",
        " [40] \"UnrealScript\"          \"VHDL\"                  \"XQuery\"               \n",
        " [43] \"Lua\"                   \"Gettext Catalog\"       \"C++\"                  \n",
        " [46] \"Turing\"                \"Matlab\"                \"AppleScript\"          \n",
        " [49] \"AspectJ\"               \"Harbour\"               \"LLVM\"                 \n",
        " [52] \"OpenCL\"                \"OCaml\"                 \"Tcl\"                  \n",
        " [55] \"Dart\"                  \"VimL\"                  \"Smarty\"               \n",
        " [58] \"Puppet\"                \"RHTML\"                 \"Groovy\"               \n",
        " [61] \"CoffeeScript\"          \"Stylus\"                \"Elixir\"               \n",
        " [64] \"Java Server Pages\"     \"Perl\"                  \"Ragel in Ruby Host\"   \n",
        " [67] \"Markdown\"              \"Fancy\"                 \"Awk\"                  \n",
        " [70] \"ASP\"                   \"XSLT\"                  \"TOML\"                 \n",
        " [73] \"ABAP\"                  \"Go\"                    \"F#\"                   \n",
        " [76] \"YAML\"                  \"D\"                     \"HTML\"                 \n",
        " [79] \"Org\"                   \"HTTP\"                  \"GAS\"                  \n",
        " [82] \"RDoc\"                  \"Sass\"                  \"R\"                    \n",
        " [85] \"HTML+ERB\"              \"Erlang\"                \"TypeScript\"           \n",
        " [88] \"CMake\"                 \"Standard ML\"           \"Objective-C++\"        \n",
        " [91] \"Textile\"               \"reStructuredText\"      \"SQL\"                  \n",
        " [94] \"Rebol\"                 \"Pod\"                   \"Objective-C\"          \n",
        " [97] \"Cucumber\"              \"fish\"                  \"C\"                    \n",
        "[100] \"Objective-J\"           \"Inno Setup\"            \"Tcsh\"                 \n",
        "[103] \"Literate CoffeeScript\" \"Scheme\"                \"Emacs Lisp\"           \n",
        "[106] \"Mask\"                  \"TeX\"                   \"LiveScript\"           \n",
        "[109] \"Stata\"                 \"Handlebars\"            \"C#\"                   \n",
        "[112] \"Raw token data\"        \"AsciiDoc\"              \"PHP\"                  \n",
        "[115] \"Batchfile\"             \"DOT\"                   \"Verilog\"              \n",
        "[118] \"JSON\"                  \"SCSS\"                  \"eC\"                   \n",
        "[121] \"Assembly\"              \"Python\"                \"Visual Basic\"         \n",
        "[124] \"Scala\"                 \"Gnuplot\"               \"PostScript\"           \n",
        "[127] \"IDL\"                   \"Haml\"                  \"XML\"                  \n",
        "[130] \"NSIS\"                  \"Cuda\"                  \"Twig\"                 \n",
        "[133] \"Less\"                  \"Makefile\"              \"Java\"                 \n",
        "[136] \"Arduino\"               \"HTML+Django\"           \"Clojure\"              \n",
        "[139] \"GAP\"                   \"HTML+PHP\"              \"JavaScript\"           \n",
        "[142] \"Liquid\"                \"Groff\"                 \"Jade\"                 \n",
        "[145] \"Ruby\"                 \n",
        "[1] 145\n"
       ]
      }
     ],
     "prompt_number": 17
    },
    {
     "cell_type": "heading",
     "level": 3,
     "metadata": {},
     "source": [
      "How effective is a language?"
     ]
    },
    {
     "cell_type": "markdown",
     "metadata": {},
     "source": [
      "We create a data frame containing the repository and the Lanuguage information (stars, forks etc.) for each repository and language pair. Then we use split, apply and combine functions on the data to extract useful information from the data we obtained. We calculate the average popularity and average accessibility of each language and plot the same."
     ]
    },
    {
     "cell_type": "code",
     "collapsed": false,
     "input": [
      "%%R\n",
      "\n",
      "########################### How effective is a language ? ##############################\n",
      "\n",
      "users = data.frame(stringsAsFactors = FALSE) \n",
      "repos = data.frame(stringsAsFactors = FALSE)\n",
      "mongo_rmongodb <- mongo.create(host = \"localhost\") \n",
      "mongo_rmongo <- mongoDbConnect(\"dataset\", host=\"localhost\")\n",
      "DBNS_users = \"dataset.users\"\n",
      "DBNS_repos = \"dataset.repositories\"\n",
      "if (mongo.is.connected(mongo_rmongodb)) {\n",
      "  repos = mongo.find.all(mongo_rmongodb, DBNS_repos, list(done=TRUE)) \n",
      "}\n",
      "\n",
      "## create an empty dataframe and populate the same with repos and language data\n",
      "repos_by_languages <- data.frame(stringsAsFactors = FALSE)\n",
      "\n",
      "for(i in 1: nrow(repos))\n",
      "{\n",
      "  repos_one <-  repos[i,]\n",
      "  languages_list <- repos_one$languages\n",
      "  \n",
      "  totalLineCount <- 0\n",
      "  if(!is.na(repos_one$stars) && repos_one$stars > 5 && !is.na(length(languages_list)) && class(repos_one$stars)!= 'mongo.oid')\n",
      "  {\n",
      "    for(j in 1:length(languages_list))\n",
      "    {\n",
      "      totalLineCount = totalLineCount + languages_list[[j]][['lineCount']]\n",
      "    }\n",
      "    for(j in 1:length(languages_list))\n",
      "    {\n",
      "      repos_by_languages <- rbind(repos_by_languages, data.frame(id=mongo.oid.to.string(repos[i,1][[1]]),name=repos_one$fullName,stars = repos_one$stars, forks = repos_one$forks, language = languages_list[[j]]['language'] , linecount = languages_list[[j]][['lineCount']], totalLineCount = totalLineCount ))\n",
      "    }\n",
      "  }\n",
      "}\n",
      "\n",
      "cat(\"Table data : \\n\\n\\n\")\n",
      "print(head(repos_by_languages))\n",
      "cat(\"\\n\\n\\n\")\n",
      "cat(\"Dimensions : \\n\")\n",
      "print(dim(repos_by_languages))\n",
      "\n",
      "\n",
      "##### Use split, apply and combine to find the popularity and accessibility and proportional line count\n",
      "ddply_sum_lineCount = ddply( repos_by_languages,\n",
      "                             c(\"id\",\"name\", \"stars\",\"forks\",\"language\",\"linecount\"), \n",
      "                             summarize,        \n",
      "                             prop_lineCount = linecount/totalLineCount, \n",
      "                             popularity = stars * prop_lineCount,\n",
      "                             accessibility = forks * prop_lineCount\n",
      ")  \n",
      "\n",
      "cat(\"Table data : \\n\\n\\n\")\n",
      "print(head(ddply_sum_lineCount))\n",
      "cat(\"\\n\\n\\n\")\n",
      "cat(\"Dimensions : \\n\")\n",
      "print(dim(ddply_sum_lineCount))\n",
      "\n",
      "\n",
      "##### Use split, apply and combine to find the average popularity and accessibility\n",
      "ddply_Overall = ddply( ddply_sum_lineCount,\n",
      "                       c(\"language\"), \n",
      "                       summarize,        \n",
      "                       avg_popularity = mean(popularity),\n",
      "                       avg_accessibility = mean(accessibility)\n",
      ")  \n",
      "cat(\"Table data : \\n\\n\\n\")\n",
      "print(head(ddply_Overall))\n",
      "cat(\"\\n\\n\\n\")\n",
      "cat(\"Dimensions : \\n\")\n",
      "print(dim(ddply_Overall))\n",
      "\n",
      "#ggplot(ddply_Overall,aes(x= avg_popularity, y = avg_accessibility, colour = language)) + geom_point() + \n",
      "#  geom_text(aes(label=language),hjust=0, vjust=0)\n",
      "x=1"
     ],
     "language": "python",
     "metadata": {},
     "outputs": [
      {
       "metadata": {},
       "output_type": "display_data",
       "text": [
        "Table data : \n",
        "\n",
        "\n",
        "                        id              name stars forks   language linecount\n",
        "1 537fc5b7280ef15170b56d3b bartaz/impress.js 20366  4150        CSS     21141\n",
        "2 537fc5b7280ef15170b56d3b bartaz/impress.js 20366  4150 JavaScript     32840\n",
        "3 538006aa280ef15170b5a296 Prinzhorn/skrollr  8881  1689 JavaScript    103132\n",
        "4 538006aa280ef15170b5a296 Prinzhorn/skrollr  8881  1689        CSS      8434\n",
        "5 5380183c280ef15170b5a7c3   nnnick/Chart.js  8025  2638 JavaScript    175411\n",
        "6 5380183c280ef15170b5a7c3   nnnick/Chart.js  8025  2638        CSS     14218\n",
        "  totalLineCount\n",
        "1          53981\n",
        "2          53981\n",
        "3         111566\n",
        "4         111566\n",
        "5         189629\n",
        "6         189629\n",
        "\n",
        "\n",
        "\n",
        "Dimensions : \n",
        "[1] 2553    7\n",
        "Table data : \n",
        "\n",
        "\n",
        "                        id              name stars forks   language linecount\n",
        "1 537fc5b7280ef15170b56d3b bartaz/impress.js 20366  4150        CSS     21141\n",
        "2 537fc5b7280ef15170b56d3b bartaz/impress.js 20366  4150 JavaScript     32840\n",
        "3 538006aa280ef15170b5a296 Prinzhorn/skrollr  8881  1689 JavaScript    103132\n",
        "4 538006aa280ef15170b5a296 Prinzhorn/skrollr  8881  1689        CSS      8434\n",
        "5 5380183c280ef15170b5a7c3   nnnick/Chart.js  8025  2638 JavaScript    175411\n",
        "6 5380183c280ef15170b5a7c3   nnnick/Chart.js  8025  2638        CSS     14218\n",
        "  prop_lineCount popularity accessibility\n",
        "1     0.39163780  7976.0954     1625.2969\n",
        "2     0.60836220 12389.9046     2524.7031\n",
        "3     0.92440349  8209.6274     1561.3175\n",
        "4     0.07559651   671.3726      127.6825\n",
        "5     0.92502202  7423.3017     2440.2081\n",
        "6     0.07497798   601.6983      197.7919\n",
        "\n",
        "\n",
        "\n",
        "Dimensions : \n",
        "[1] 2553    9\n",
        "Table data : \n",
        "\n",
        "\n",
        "      language avg_popularity avg_accessibility\n",
        "1          CSS      1066.3730         279.25479\n",
        "2   JavaScript      2947.1455         555.51786\n",
        "3         Ruby      1626.4341         356.97164\n",
        "4          SQL       116.6489          96.33535\n",
        "5 CoffeeScript       964.0486         143.56952\n",
        "6        Shell       319.6098          57.37411\n",
        "\n",
        "\n",
        "\n",
        "Dimensions : \n",
        "[1] 86  3\n"
       ]
      }
     ],
     "prompt_number": 25
    },
    {
     "cell_type": "heading",
     "level": 4,
     "metadata": {},
     "source": [
      "Average Popularity(Stars) vs Average Accessibility (forks)"
     ]
    },
    {
     "cell_type": "markdown",
     "metadata": {},
     "source": [
      "<img src=\"images/AVG_PLOTVSAVGACC.png\" width = 900 height=900>"
     ]
    },
    {
     "cell_type": "markdown",
     "metadata": {},
     "source": [
      "Here we attempt to quantify a language by its accesibility as well as its effectiveness. As mentioned before we use forks as a measure of accessibility and stars as a measure of quality/effectiveness. For each language we assigned an avg. accesibility and avg. effectiveness score; these were computed by analyzing the repositories which were at least partly written in that language, using the proportion of that repo written in that language as a weight, and finding the product of the weight with the number of forks/stars for accesibility and effectiveness respectively. We then average these across repositories."
     ]
    },
    {
     "cell_type": "heading",
     "level": 3,
     "metadata": {},
     "source": [
      "Log-Log Effectiveness of Languages "
     ]
    },
    {
     "cell_type": "code",
     "collapsed": false,
     "input": [
      "%%R\n",
      "\n",
      "ggplot(ddply_Overall,aes(x= log(avg_popularity), y = log(avg_accessibility), colour = language)) + geom_point() + \n",
      "  geom_text(aes(label=language),hjust=0, vjust=0)"
     ],
     "language": "python",
     "metadata": {},
     "outputs": []
    },
    {
     "cell_type": "markdown",
     "metadata": {},
     "source": [
      "<img src=\"images/LOG_LOG_PLOT.png\" width = 900 height=900>"
     ]
    },
    {
     "cell_type": "heading",
     "level": 2,
     "metadata": {},
     "source": [
      "Domain Specific Analysis of Languages"
     ]
    },
    {
     "cell_type": "markdown",
     "metadata": {},
     "source": [
      "We have defined  Domain to contain two languages namely <b>Java</b> and <b>Ruby </b>"
     ]
    },
    {
     "cell_type": "code",
     "collapsed": false,
     "input": [
      "%%R\n",
      "\n",
      "###############utility functions############################\n",
      "update_hash_value <- function(h, key, value){\n",
      "  if(!has.key(key,h))\n",
      "    hash:::.set(h,keys=key,values=value)\n",
      "  else\n",
      "  {\n",
      "    temp <- values(h, keys=key)\n",
      "    hash:::.set(h,keys=key,values=(value+temp))\n",
      "  }\n",
      "}\n",
      " \n",
      "###########################################################\n",
      "    \n",
      "\n",
      "mongo <- mongoDbConnect(\"dataset\", host=\"localhost\")\n",
      "contribution_df <- dbGetQuery(mongo, \"contributionratios\", '{$or:[{\"contribution_ratio\": {$elemMatch:{\"language\":\"Java\"}}},{\"contribution_ratio\": {$elemMatch:{\"language\":\"Ruby\"}}}]}', skip=0, limit=100000)\n",
      "\n",
      "domain <- c(\"Java\",\"ruby\")\n",
      "\n",
      "#define a threshold for each languageto pick only those contribution ratios above this threshold \n",
      "threshold <- c(3.622832e-012, 3.622832e-012) \n",
      "\n",
      "contribution_ratios <- contribution_df[,c(\"author\",\"contribution_ratio\"), drop=FALSE]\n",
      "user_contribution_list <- c()\n",
      "for(i in 1:nrow(contribution_ratios))\n",
      "{\n",
      "  \n",
      "  Contribution_jsonObject <- fromJSON( contribution_ratios[2][[1]][i])\n",
      "  for(j in 1:length(Contribution_jsonObject))\n",
      "  {\n",
      "    if(\"language\" %in% names(Contribution_jsonObject[[j]]))\n",
      "    {\n",
      "      curr_language <- Contribution_jsonObject[[j]]$language\n",
      "      if(tolower(curr_language) %in% tolower(domain))\n",
      "      { \n",
      "        Language_index <- match(tolower(curr_language),tolower(domain))\n",
      "        threshold_language <- threshold[Language_index]\n",
      "        if(Contribution_jsonObject[[j]]$ratio > threshold_language)\n",
      "        {\n",
      "          user_contribution_list <- c(user_contribution_list,contribution_ratios[1][[1]][i] )\n",
      "        }\n",
      "      }\n",
      "    }\n",
      "  } \n",
      "}\n",
      "\n",
      "\n",
      "\n",
      "author_ratios <- data.frame(stringsAsFactors = FALSE)\n",
      "h_stars_ruby <- hash(keys=user_contribution_unique_list, values= rep(0, length(user_contribution_unique_list)))\n",
      "h_forks_ruby <- hash(keys=user_contribution_unique_list, values= rep(0, length(user_contribution_unique_list)))\n",
      "\n",
      "h_stars_java <- hash(keys=user_contribution_unique_list, values= rep(0, length(user_contribution_unique_list)))\n",
      "h_forks_java <- hash(keys=user_contribution_unique_list, values= rep(0, length(user_contribution_unique_list)))\n",
      "\n",
      "for(authorId in user_contribution_unique_list)\n",
      "{\n",
      "  cursor <- mongo.find(mongo_rmongodb, ns = \"dataset.usercommitactvities\", query=list(author=mongo.oid.from.string(authorId), language=list('$in'=c('Java','Ruby'))), fields=list(repository=1L,language=1L) )\n",
      "  \n",
      "  user_contributions_ratio <- mongo.find(mongo_rmongodb, ns = \"dataset.contributionratios\", query=list(author=mongo.oid.from.string(authorId)),fields=list(contribution_ratio=1L))\n",
      "  ratio_lang <- 0\n",
      "  \n",
      "  ratio_ruby <- 0\n",
      "  ratio_java <- 0\n",
      "  \n",
      "  if (mongo.cursor.next(user_contributions_ratio))\n",
      "  {\n",
      "    ratio <- mongo.cursor.value(user_contributions_ratio)\n",
      "    ##ratio <- mongo.bson.value( ratio, \"contribution_ratio\")\n",
      "    ratio_ruby <- find_lang_contrib_ratio(ratio, \"Ruby\")\n",
      "    ratio_java <- find_lang_contrib_ratio(ratio, \"Java\")\n",
      "  }\n",
      "  \n",
      "  while (mongo.cursor.next(cursor))\n",
      "  {\n",
      "    item <- mongo.cursor.value(cursor)\n",
      "    oid <- mongo.bson.value(item, \"repository\")\n",
      "    lang <- mongo.bson.value(item, \"language\")\n",
      "    ## get stars and forks from the user commit activities\n",
      "    stars <- find_stars_lang(ddply_sum_lineCount, mongo.oid.to.string(oid) , lang)\n",
      "    forks <- find_forks_lang(ddply_sum_lineCount, mongo.oid.to.string(oid) , lang)\n",
      "    if(lang == \"Ruby\")\n",
      "    {\n",
      "        stars  <- stars * ratio_ruby\n",
      "        forks  <- forks * ratio_ruby\n",
      "        update_hash_value(h_forks_ruby, authorId, forks) \n",
      "        update_hash_value(h_stars_ruby, authorId, stars) \n",
      "    }\n",
      "    else if(lang == \"Java\")\n",
      "    {\n",
      "        stars  <- stars * ratio_java\n",
      "        forks  <- forks * ratio_java\n",
      "        update_hash_value(h_forks_java, authorId, forks) \n",
      "        update_hash_value(h_stars_java, authorId, stars) \n",
      "    }\n",
      "    #cat(authorId, \"-\",mongo.oid.to.string(oid),\"-\",stars,\"-\",forks,\"-\",lang,\"\\n\")\n",
      "    cat(\".\")   \n",
      "  }\n",
      "  mongo.cursor.destroy(cursor)\n",
      "}\n",
      "\n",
      "forks_lang_ruby <- c()\n",
      "for(vals in  values(h_forks_ruby))\n",
      "  forks_lang_ruby <- c(forks_lang_ruby, vals)\n",
      "\n",
      "stars_lang_ruby <- c()\n",
      "for(vals in  values(h_stars_ruby))\n",
      "  stars_lang_ruby <- c(stars_lang_ruby, vals)\n",
      "\n",
      "forks_lang_java <- c()\n",
      "for(vals in  values(h_forks_java))\n",
      "  forks_lang_java <- c(forks_lang_java, vals)\n",
      "\n",
      "stars_lang_java <- c()\n",
      "for(vals in  values(h_stars_java))\n",
      "  stars_lang_java <- c(stars_lang_java, vals)\n",
      "\n",
      "par(new=TRUE)\n",
      "plot(stars_lang_ruby,forks_lang_ruby,ylim =c(0,25),xlim=c(0,100),xlab=\"stars\",ylab=\"forks\", col=\"red\")\n",
      "par(new=TRUE)\n",
      "plot(stars_lang_java,forks_lang_java,ylim =c(0,25),xlim=c(0,100),xlab=\"stars\",ylab=\"forks\", col=\"blue\")\n",
      "par(new=TRUE)\n",
      "l <- legend( \"topright\", inset = c(0,0.4) \n",
      "             , cex = 1.5\n",
      "             , bty = \"n\"\n",
      "             , legend = c(\"Ruby\", \"Java\")\n",
      "             , text.col = c(\"red\", \"blue\")\n",
      "             , pt.bg = c(\"red\",\"blue\")\n",
      "             , pch = c(21,22)\n",
      ")\n",
      "title(\"Measure of forks vs stars for both Java and Ruby\")\n",
      "\n",
      "plot(stars_lang_ruby,stars_lang_java,ylim =c(0,25),xlim=c(0,100),xlab=\"Stars for Ruby\",ylab=\"Stars for Java\", col=\"red\")\n",
      "title(\"Measure of Stars for Ruby vs Stars for Java \")"
     ],
     "language": "python",
     "metadata": {},
     "outputs": []
    },
    {
     "cell_type": "heading",
     "level": 3,
     "metadata": {},
     "source": [
      "a)    Contribution for Forks vs Contribution for Stars for a Domain - Java and Ruby"
     ]
    },
    {
     "cell_type": "markdown",
     "metadata": {},
     "source": [
      "<table border=none width = 1200>\n",
      "<tr>\n",
      "<td>\n",
      "<img src=\"images/forksvsstarsRuby.png\" width = 900 height=1000>\n",
      "</td>\n",
      "<td>\n",
      "<img src=\"images/forksvsstarsJava.png\" width = 900 height=1000>\n",
      "</td>\n",
      "</tr>\n",
      "</table>"
     ]
    },
    {
     "cell_type": "markdown",
     "metadata": {},
     "source": [
      "Now we took a developer centric approach, trying to determine the quality and accesibility of code written by developers in a certain domain. To link the stars/forks of the repositories to the contributions of individual developers we used the contribution ratio metric. We used the ratio of their contribution in that language to the overall amount of code written, took the product with the proportion of code written in that language ina repository, and multiplying by stars/forks. For a given developer and language we sum these calculations across repositories he's made a contribution to in that language."
     ]
    },
    {
     "cell_type": "heading",
     "level": 3,
     "metadata": {},
     "source": [
      "b)  Number of Users who have contributed to Javascript and CSS, Java and Ruby"
     ]
    },
    {
     "cell_type": "code",
     "collapsed": false,
     "input": [
      "print(\"User contributed to either JS or CSS\")\n",
      "print(length(unique(user_contribution_list)))\n",
      "print(\"User contributed to both\")\n",
      "print(length((user_contribution_list)) - length(unique(user_contribution_list)))\n",
      "print(\"537ff216280ef15170b59ba5\" %in% user_contribution_list)\n",
      "user_contribution_unique_list <- unique(user_contribution_list)"
     ],
     "language": "python",
     "metadata": {},
     "outputs": []
    },
    {
     "cell_type": "markdown",
     "metadata": {},
     "source": [
      "<b>Either JavaScript or CSS </b>: 9553 user <br/>\n",
      "<b>Both Javascript and CSS </b>: 1872 users"
     ]
    },
    {
     "cell_type": "markdown",
     "metadata": {},
     "source": [
      "similarly for Java and Ruby"
     ]
    },
    {
     "cell_type": "markdown",
     "metadata": {},
     "source": [
      "<b>Either Java or Ruby </b>: 11313 user <br/>\n",
      "<b>Both Java and Ruby </b>: 163 users"
     ]
    },
    {
     "cell_type": "heading",
     "level": 3,
     "metadata": {},
     "source": [
      "c)  Forks vs Stars across all languages"
     ]
    },
    {
     "cell_type": "code",
     "collapsed": false,
     "input": [
      "%%R\n",
      "\n",
      "###### forks vs stars for all languages\n",
      "find_avg_userweight_for_repr <- function() {\n",
      "  \n",
      "  cursor <- mongo.find(mongo_rmongodb, ns = \"dataset.useravgweights\", fields=list(author=1L,weight=1L))\n",
      "  h <- hash(keys=1,values=1)\n",
      "  \n",
      "  while (mongo.cursor.next(cursor))\n",
      "  {\n",
      "    item <- mongo.cursor.value(cursor)\n",
      "    author <- mongo.bson.value(item, \"author\")\n",
      "    weight <- mongo.bson.value(item, \"weight\")\n",
      "    \n",
      "    #if(!has.key(author, h))\n",
      "    #{\n",
      "      hash:::.set(h, keys=author,values=weight)\n",
      "    #}\n",
      "  }\n",
      "  \n",
      "  cursor <- mongo.find(mongo_rmongodb, ns = \"dataset.repositories\", fields=list(\"_id\"=1L,\"contributors.user\"=1L,stars=1L,forks=1L))\n",
      "  stars_arr <- c()\n",
      "  forks_arr <- c()\n",
      "  sum_arr <- c()\n",
      "  id_arr <- c()\n",
      "  \n",
      "  while (mongo.cursor.next(cursor))\n",
      "  {\n",
      "    item <- mongo.cursor.value(cursor)\n",
      "    repo <- mongo.bson.value(item, \"_id\")\n",
      "    contrib <- mongo.bson.value(item, \"contributors\")\n",
      "    stars <- mongo.bson.value(item, \"stars\")\n",
      "    forks <- mongo.bson.value(item, \"forks\")\n",
      "    stars_arr <- c(stars_arr, stars)\n",
      "    forks_arr <- c(forks_arr, forks)\n",
      "    \n",
      "    sum <- 0\n",
      "    count <- 0\n",
      "    for(i in 1:length(contrib))\n",
      "    {\n",
      "      sum = sum + values(h, keys=contrib[i][[1]]$user)[[1]]\n",
      "      count = count + 1\n",
      "    }\n",
      "    sum_arr <- c(sum_arr, sum/count)\n",
      "    id_arr <- c(id_arr, mongo.oid.to.string(repo))\n",
      "  }\n",
      "  \n",
      "  df <- data.frame(id_arr, stars_arr, forks_arr, sum_arr)\n",
      "  df\n",
      "}\n",
      "\n",
      "df <- find_avg_userweight_for_repr()\n",
      "fit <- lm(df[,3]~df[,2], data=df)\n",
      "ggplot(df, aes(x=df[,3], y=df[,2])) + geom_point() + stat_smooth(method = \"lm\", formula = as.formula(fit), size = 1, se = FALSE, colour = \"black\")"
     ],
     "language": "python",
     "metadata": {},
     "outputs": []
    },
    {
     "cell_type": "markdown",
     "metadata": {},
     "source": [
      "<img src=\"images/Final_Plot_4.png\" width = 1000 height=800>"
     ]
    },
    {
     "cell_type": "heading",
     "level": 1,
     "metadata": {},
     "source": [
      "Temporal Language Analysis"
     ]
    },
    {
     "cell_type": "markdown",
     "metadata": {},
     "source": [
      "Time series analysis of contributions to various languages reveals interesting trends in the way languages evelove over time. The data required for this analysis is partly retrieved using map-reduce framework in monogodb and partly using code written in R. The map reduce code performs the following steps:\n",
      "<ol>\n",
      "<li>Group all commits made to all the repositories by language and by month and year</li>\n",
      "<li>For each of these groups find the sum of all the changes made</li>\n",
      "</ol>\n",
      "\n",
      "<b>Some interesting trends:</b> <br> While trying to identify trends in the commit activity for languages over time we found an interesting trend for `coffeescript`. The commit activity for this scripting language was initially low but there was a sudden peak in the commit activity in 2013, the year when `coffeescript` was ranked 29th among languages.\n",
      "\n",
      "The plots below show the trends in commit activity over time for `all languages`, `major programming languages` and `coffeescript`"
     ]
    },
    {
     "cell_type": "heading",
     "level": 3,
     "metadata": {},
     "source": [
      "a)    Temporal analysis for all languages over time"
     ]
    },
    {
     "cell_type": "markdown",
     "metadata": {},
     "source": [
      "We plot the number of commits for each language over the time."
     ]
    },
    {
     "cell_type": "code",
     "collapsed": false,
     "input": [
      "%%R\n",
      "\n",
      "###\n",
      "#\n",
      "# Analysis of language evolution over time\n",
      "#\n",
      "###\n",
      "\n",
      "temporal_lang_performance <- function()\n",
      "{\n",
      "  cursor <- mongo.find(mongo_rmongodb, ns = \"dataset.temporalcommits_new\", sort=list(\"value.temporal.$.date\"=1L) ,fields=list(value=1L))\n",
      "  h  <- hash(keys=1,values=1)\n",
      "  \n",
      "  while (mongo.cursor.next(cursor))\n",
      "  {\n",
      "    item <- mongo.cursor.value(cursor)\n",
      "    val <- mongo.bson.value(item, \"value\")\n",
      "    lang <- val$lang\n",
      "    if(!is.null(lang))\n",
      "    {\n",
      "      temporal <- val$temporal\n",
      "      changes_arr <- c()\n",
      "      date_arr <- c()\n",
      "      str_arr <- c()\n",
      "      \n",
      "      if(length(temporal) == 0)\n",
      "        next\n",
      "      for(i in 1:length(temporal))\n",
      "      {\n",
      "        dt <- strptime(temporal[[i]]$date,format=\"%a, %d %b %Y %H:%M:%S GMT\")\n",
      "        changes <- temporal[[i]]$changes\n",
      "        date_arr <- append(date_arr , as.Date(dt)) #format(as.Date(dt), \"%b,%Y\")\n",
      "        changes_arr <- append(changes_arr, changes)\n",
      "        str_arr <- append(str_arr, format(as.Date(dt), \"%b,%Y\"))\n",
      "      }\n",
      "      print(class(date_arr))\n",
      "      df <- data.frame(date_arr , changes_arr, str_arr)\n",
      "      hash:::.set(h,keys=lang, values=df)\n",
      "    }\n",
      "  }\n",
      "  h\n",
      "}\n",
      "\n",
      "ret <- temporal_lang_performance()\n",
      "\n",
      "p <- ggplot()\n",
      "mat_global <- data.frame()\n",
      "lang <- keys(ret)\n",
      "\n",
      "for(key in 1:length(lang)) {\n",
      "      \n",
      "    if(!(key %in% c(19)))\n",
      "      next\n",
      "    \n",
      "    if(length(values(ret, keys=lang[key])) < 3)\n",
      "      next\n",
      "    \n",
      "    x <- values(ret, keys=lang[key])[[1]]\n",
      "    y <- values(ret, keys=lang[key])[[2]]\n",
      "    z <- values(ret, keys=lang[key])[[3]]\n",
      "    w <- rep(lang[key], length(x))\n",
      "    \n",
      "    mat <- data.frame(x,y,z,w)\n",
      "    \n",
      "    mat <- mat[order(mat[,1]), ]\n",
      "    mat <- data.frame(mat)\n",
      "    \n",
      "    mat_global <- rbind(mat_global, mat)\n",
      "}\n",
      "\n",
      "mat_global <- mat_global[order(mat_global[,1]), ]\n",
      "\n",
      "library(grid)\n",
      "\n",
      "ggplot(mat_global, aes(x=x, y=y,\n",
      "                      group=interaction(w),\n",
      "                      colour=w)) +\n",
      "geom_line() + scale_y_continuous(limits=c(0, 10000)) + theme(legend.key.size = unit(0.4, \"cm\"))\n",
      "\n",
      "### End temporal analysis"
     ],
     "language": "python",
     "metadata": {},
     "outputs": []
    },
    {
     "cell_type": "markdown",
     "metadata": {},
     "source": [
      "<img src=\"images/Final_Plot.png\" width = 2000 height=2000>"
     ]
    },
    {
     "cell_type": "heading",
     "level": 3,
     "metadata": {},
     "source": [
      "b)    Temporal analysis for major programming languages"
     ]
    },
    {
     "cell_type": "markdown",
     "metadata": {},
     "source": [
      "We plot the number of commits for majorly used languages over the time."
     ]
    },
    {
     "cell_type": "markdown",
     "metadata": {},
     "source": [
      "<img src=\"images/Final_Plot_1.png\" width = 1000 height=900>"
     ]
    },
    {
     "cell_type": "heading",
     "level": 3,
     "metadata": {},
     "source": [
      "c)    Temporal analysis for `CoffeeScript`"
     ]
    },
    {
     "cell_type": "markdown",
     "metadata": {},
     "source": [
      "We have plotted the temporal data for coffeescript. We see peek a peek in 2013. This is because as of 2013 Coffescript was the 12th most popular language on GitHub in terms of project-count [5]. In 2013 it was also ranked 29th among languages, based on number of questions tagged at Stack Overflow."
     ]
    },
    {
     "cell_type": "markdown",
     "metadata": {},
     "source": [
      "<img src=\"images/Final_Plot_2.png\" width = 1000 height=500>"
     ]
    },
    {
     "cell_type": "heading",
     "level": 1,
     "metadata": {},
     "source": [
      "Relationship between Stars and Forks - Linear Regression"
     ]
    },
    {
     "cell_type": "markdown",
     "metadata": {},
     "source": [
      "We performed Linear Regression on the data to find the relationship between Stars and Forks. The results weren't good enough as we couldn't find correlation between the two entities. Results are as below:"
     ]
    },
    {
     "cell_type": "code",
     "collapsed": false,
     "input": [
      "%%R\n",
      "\n",
      "find_avg_userweight_for_repr <- function() {\n",
      "  \n",
      "  cursor <- mongo.find(mongo_rmongodb, ns = \"dataset.useravgweights\", fields=list(author=1L,weight=1L))\n",
      "  h <- hash(keys=1,values=1)\n",
      "  \n",
      "  while (mongo.cursor.next(cursor))\n",
      "  {\n",
      "    item <- mongo.cursor.value(cursor)\n",
      "    author <- mongo.bson.value(item, \"author\")\n",
      "    weight <- mongo.bson.value(item, \"weight\")\n",
      "    \n",
      "    #if(!has.key(author, h))\n",
      "    #{\n",
      "      hash:::.set(h, keys=author,values=weight)\n",
      "    #}\n",
      "  }\n",
      "  \n",
      "  cursor <- mongo.find(mongo_rmongodb, ns = \"dataset.repositories\", fields=list(\"_id\"=1L,\"contributors.user\"=1L,stars=1L,forks=1L))\n",
      "  stars_arr <- c()\n",
      "  forks_arr <- c()\n",
      "  sum_arr <- c()\n",
      "  id_arr <- c()\n",
      "  \n",
      "  while (mongo.cursor.next(cursor))\n",
      "  {\n",
      "    item <- mongo.cursor.value(cursor)\n",
      "    repo <- mongo.bson.value(item, \"_id\")\n",
      "    contrib <- mongo.bson.value(item, \"contributors\")\n",
      "    stars <- mongo.bson.value(item, \"stars\")\n",
      "    forks <- mongo.bson.value(item, \"forks\")\n",
      "    stars_arr <- c(stars_arr, stars)\n",
      "    forks_arr <- c(forks_arr, forks)\n",
      "    \n",
      "    sum <- 0\n",
      "    count <- 0\n",
      "    for(i in 1:length(contrib))\n",
      "    {\n",
      "      sum = sum + values(h, keys=contrib[i][[1]]$user)[[1]]\n",
      "      count = count + 1\n",
      "    }\n",
      "    sum_arr <- c(sum_arr, sum/count)\n",
      "    id_arr <- c(id_arr, mongo.oid.to.string(repo))\n",
      "  }\n",
      "  \n",
      "  df <- data.frame(id_arr, stars_arr, forks_arr, sum_arr)\n",
      "  df\n",
      "}\n",
      "\n",
      "df <- find_avg_userweight_for_repr()\n",
      "fit <- lm(df[,3]~df[,2], data=df)\n"
     ],
     "language": "python",
     "metadata": {},
     "outputs": []
    },
    {
     "cell_type": "raw",
     "metadata": {},
     "source": [
      "Call:\n",
      "lm(formula = stars_arr ~ forks_arr, data = df)\n",
      "\n",
      "Residuals:\n",
      "   Min     1Q Median     3Q    Max \n",
      "-41683  -1062   -503    536  21504 \n",
      "\n",
      "Coefficients:\n",
      "             Estimate Std. Error t value Pr(>|t|)    \n",
      "(Intercept) 2.850e+03  1.166e+02   24.45   <2e-16 ***\n",
      "forks_arr   1.758e+00  6.089e-02   28.88   <2e-16 ***\n",
      "---\n",
      "Signif. codes:  0 \u2018***\u2019 0.001 \u2018**\u2019 0.01 \u2018*\u2019 0.05 \u2018.\u2019 0.1 \u2018 \u2019 1\n",
      "\n",
      "Residual standard error: 2868 on 803 degrees of freedom\n",
      "Multiple R-squared:  0.5095,\tAdjusted R-squared:  0.5088 \n",
      "F-statistic:   834 on 1 and 803 DF,  p-value: < 2.2e-16"
     ]
    },
    {
     "cell_type": "heading",
     "level": 1,
     "metadata": {},
     "source": [
      "General Data Analysis on Github"
     ]
    },
    {
     "cell_type": "heading",
     "level": 3,
     "metadata": {},
     "source": [
      "Plot of number of Repositories per language Basis"
     ]
    },
    {
     "cell_type": "code",
     "collapsed": false,
     "input": [
      "%%R\n",
      "\n",
      "library(\"RMongo\")\n",
      "library(\"rmongodb\") \n",
      "library(\"plyr\")\n",
      "library(\"ggplot2\")\n",
      "\n",
      "get_all_lang <- function()\n",
      "{\n",
      "  mongo <- mongoDbConnect(\"dataset\", host=\"localhost\")\n",
      "  output <- dbAggregate(mongo, \"commits\", c('{ \"$unwind\" : \"$changes\"}',\n",
      "                                            ' { \"$project\" : { \"lang\" : \"$changes.language\" } } ',\n",
      "                                            ' { \"$group\" : { \"_id\" : \"$lang\" } } '))\n",
      "  \n",
      "  Languages_All <- c()\n",
      "  for(i in 1:length(output))\n",
      "  {\n",
      "    bson <- mongo.bson.from.JSON(output[i])\n",
      "    lang <- mongo.bson.value(bson,\"_id\")\n",
      "    if(!is.null(lang) && nchar(lang) > 0)\n",
      "      Languages_All <- c(Languages_All, lang)\n",
      "  }\n",
      "  \n",
      "  unique_languages <- unique(Languages_All)\n",
      "  unique_languages\n",
      "}\n",
      "\n",
      "#unique_languages <- get_all_lang()\n",
      "#print(length(unique_languages))\n",
      "\n",
      "mongo_rmongodb <- mongo.create(host = \"localhost\")\n",
      "user_commit_activity <- data.frame(stringsAsFactors = FALSE)\n",
      "\n",
      "user_commit_act <- mongo.find(mongo_rmongodb, ns=\"dataset.usercommitactvities\", fields=list(language=1L,repository=1L,author=1L,changes=1L))\n",
      "while (mongo.cursor.next(user_commit_act))\n",
      "{\n",
      "  item <- mongo.cursor.value(user_commit_act)\n",
      "  repository <- mongo.oid.to.string(mongo.bson.value(item, \"repository\"))\n",
      "  author <- mongo.oid.to.string(mongo.bson.value(item, \"author\"))\n",
      "  language <- mongo.bson.value(item, \"language\")\n",
      "  changes <- mongo.bson.value(item, \"changes\")\n",
      "  if (class(repository) != \"NULL\" && class(author) != \"NULL\" && class(language) != \"NULL\" && class(changes) != \"NULL\") {\n",
      "    user_commit_activity <- rbind(user_commit_activity, data.frame(author=author,repository=repository,language=language,changes=changes))\n",
      "  }\n",
      "}\n",
      "\n",
      "ddply_lang_project = ddply(user_commit_activity,\n",
      "                           c(\"language\", \"repository\"),\n",
      "                           summarize,\n",
      "                           temp = length(author)\n",
      ")\n",
      "print(head(ddply_lang_project))\n",
      "\n",
      "ddply_projects_per_lang = ddply( ddply_lang_project,\n",
      "                                 c(\"language\"), \n",
      "                                 summarize,        \n",
      "                                 repo_count = length(repository)\n",
      ")\n",
      "print(head(ddply_projects_per_lang))\n",
      "\n",
      "########\n",
      "\n",
      "ddply_changes_per_user = ddply( user_commit_activity,\n",
      "                                c(\"language\", \"author\"), \n",
      "                                summarize,        \n",
      "                                total_changes = sum(changes)\n",
      ")\n",
      "print(head(ddply_changes_per_user))\n",
      "\n",
      "ddply_changes_per_user_lang = ddply( ddply_changes_per_user,\n",
      "                                     c(\"language\"), \n",
      "                                     summarize,        \n",
      "                                     avg_commits = mean(total_changes)\n",
      ")\n",
      "print(head(ddply_changes_per_user_lang))\n",
      "\n",
      "########\n",
      "\n",
      "ddply_dev_lang = ddply( user_commit_activity,\n",
      "                        c(\"language\", \"author\"), \n",
      "                        summarize,\n",
      "                        temp=length(repository)\n",
      ")\n",
      "print(head(ddply_dev_lang))\n",
      "\n",
      "ddply_dev_per_lang = ddply( ddply_dev_lang,\n",
      "                            c(\"language\"), \n",
      "                            summarize,        \n",
      "                            dev_count = length(author)\n",
      ")\n",
      "print(head(ddply_dev_per_lang))\n",
      "\n",
      "#######\n",
      "\n",
      "plot(x=ddply_projects_per_lang$repo_count,y=ddply_projects_per_lang$language,type=\"l\")\n",
      "plot(ddply_changes_per_user_lang)\n",
      "plot(ddply_dev_per_lang)\n",
      "\n",
      "\n",
      "par(las=2)\n",
      "par(mar=c(5,8,4,2))\n",
      "ddply_projects_per_lang_matrix <- as.matrix(ddply_projects_per_lang[, \"repo_count\"])\n",
      "row.names(ddply_projects_per_lang_matrix) <- ddply_projects_per_lang[, \"language\"]\n",
      "barplot(t(ddply_projects_per_lang_matrix),horiz=TRUE,cex.names=0.8,xlim=c(0,700),xlab=\"Number of Repositories\", main=\"Number of Repositories for each Language\")\n",
      "grid(nx=7,ny=1,lty=1)\n",
      "\n",
      "###############\n",
      "\n",
      "par(las=2)\n",
      "par(mar=c(5,8,4,2))\n",
      "ddply_changes_per_user_lang_matrix <- as.matrix(ddply_changes_per_user_lang[, \"avg_commits\"])\n",
      "row.names(ddply_changes_per_user_lang_matrix) <- ddply_changes_per_user_lang[, \"language\"]\n",
      "barplot(t(ddply_changes_per_user_lang_matrix),horiz=TRUE,xlim=c(0,150000),cex.names=0.8,xlab=\"Average Line Changes\", main=\"Average Line Changes for each Language\")\n",
      "grid(nx=5,ny=1,lty=1)\n",
      "\n",
      "##########\n",
      "\n",
      "par(las=2)\n",
      "par(mar=c(5,8,4,2))\n",
      "ddply_dev_per_lang_matrix <- as.matrix(ddply_dev_per_lang[, \"dev_count\"])\n",
      "row.names(ddply_dev_per_lang_matrix) <- ddply_dev_per_lang[, \"language\"]\n",
      "barplot(t(ddply_dev_per_lang_matrix),horiz=TRUE,xlim=c(0,5000),cex.names=0.8,xlab=\"Number of Developers\", main=\"Number of Developers for each Language\")\n",
      "grid(nx=5,ny=1,lty=1)\n"
     ],
     "language": "python",
     "metadata": {},
     "outputs": []
    },
    {
     "cell_type": "markdown",
     "metadata": {},
     "source": [
      "<img src=\"images/Repo-Count-vs-Lang.png\" width = 1000 height=800>"
     ]
    },
    {
     "cell_type": "heading",
     "level": 3,
     "metadata": {},
     "source": [
      "Plot for Number of Changes made per User per Language  "
     ]
    },
    {
     "cell_type": "markdown",
     "metadata": {},
     "source": [
      "<img src=\"images/Avg-Line-change-per-lang.png\" width = 1000 height=800>"
     ]
    },
    {
     "cell_type": "heading",
     "level": 3,
     "metadata": {},
     "source": [
      "Plot for Number of Developers contributing to each language"
     ]
    },
    {
     "cell_type": "markdown",
     "metadata": {},
     "source": [
      "<img src=\"images/Dev-vs-Lang.png\" width = 1000 height=800>"
     ]
    },
    {
     "cell_type": "heading",
     "level": 1,
     "metadata": {},
     "source": [
      "Developer Analysis"
     ]
    },
    {
     "cell_type": "code",
     "collapsed": false,
     "input": [
      "%%R\n",
      "get_all_lang <- function()\n",
      "{\n",
      "  mongo <- mongoDbConnect(\"dataset\", host=\"localhost\")\n",
      "  output <- dbAggregate(mongo, \"commits\", c('{ \"$unwind\" : \"$changes\"}',\n",
      "                                            ' { \"$project\" : { \"lang\" : \"$changes.language\" } } ',\n",
      "                                            ' { \"$group\" : { \"_id\" : \"$lang\" } } '))\n",
      "  \n",
      "  Languages_All <- c()\n",
      "  for(i in 1:length(output))\n",
      "  {\n",
      "    bson <- mongo.bson.from.JSON(output[i])\n",
      "    lang <- mongo.bson.value(bson,\"_id\")\n",
      "    if(!is.null(lang) && nchar(lang) > 0)\n",
      "      Languages_All <- c(Languages_All, lang)\n",
      "  }\n",
      "  \n",
      "  unique_languages <- unique(Languages_All)\n",
      "  unique_languages\n",
      "}\n",
      "\n",
      "#unique_languages <- get_all_lang()\n",
      "#print(length(unique_languages))\n",
      "\n",
      "mongo_rmongodb <- mongo.create(host = \"localhost\")\n",
      "user_commit_activity <- data.frame(stringsAsFactors = FALSE)\n",
      "\n",
      "user_commit_act <- mongo.find(mongo_rmongodb, ns=\"dataset.usercommitactvities\", fields=list(language=1L,repository=1L,author=1L,changes=1L))\n",
      "while (mongo.cursor.next(user_commit_act))\n",
      "{\n",
      "  item <- mongo.cursor.value(user_commit_act)\n",
      "  repository <- mongo.oid.to.string(mongo.bson.value(item, \"repository\"))\n",
      "  author <- mongo.oid.to.string(mongo.bson.value(item, \"author\"))\n",
      "  language <- mongo.bson.value(item, \"language\")\n",
      "  changes <- mongo.bson.value(item, \"changes\")\n",
      "  if (class(repository) != \"NULL\" && class(author) != \"NULL\" && class(language) != \"NULL\" && class(changes) != \"NULL\") {\n",
      "    user_commit_activity <- rbind(user_commit_activity, data.frame(author=author,repository=repository,language=language,changes=changes))\n",
      "  }\n",
      "}\n"
     ],
     "language": "python",
     "metadata": {},
     "outputs": []
    },
    {
     "cell_type": "code",
     "collapsed": false,
     "input": [
      "%%R\n",
      "\n",
      "getUserName <- function(userId)\n",
      "{\n",
      "  username <- \"\"\n",
      "  users <- mongo.find(mongo_rmongodb, ns = \"dataset.users\", query=list(\"_id\"=mongo.oid.from.string(userId)),fields=list(username=1L))\n",
      "  while (mongo.cursor.next(users))\n",
      "  {\n",
      "    item <- mongo.cursor.value(users)\n",
      "    username <- mongo.bson.value(item, \"username\")\n",
      "    \n",
      "  }\n",
      "  username\n",
      "}\n",
      "getRepoName <- function(repoId)\n",
      "{\n",
      "  reponame <- \"\"\n",
      "  repos <- mongo.find(mongo_rmongodb, ns = \"dataset.repositories\", query=list(\"_id\"=mongo.oid.from.string(repoId)),fields=list(fullName=1L))\n",
      "  while (mongo.cursor.next(repos))\n",
      "  {\n",
      "    item <- mongo.cursor.value(repos)\n",
      "    reponame <- mongo.bson.value(item, \"fullName\")    \n",
      "  }\n",
      "  reponame\n",
      "}\n",
      "#################\n",
      "ddply_auth_project <- data.frame(stringsAsFactors = FALSE)\n",
      "ddply_auth_project = ddply(user_commit_activity,\n",
      "                           c(\"author\", \"repository\"),\n",
      "                           summarize,\n",
      "                           temp = length(language)\n",
      "                          \n",
      ")\n",
      "print(head(ddply_auth_project))\n",
      "\n",
      "ddply_projects_per_author = ddply( ddply_auth_project,\n",
      "                                 c(\"author\"), \n",
      "                                 summarize,        \n",
      "                                 repo_count = length(repository)\n",
      ")\n",
      "print(head(ddply_projects_per_author))\n",
      "\n",
      "par(las=2)\n",
      "par(mar=c(5,8,4,2))\n",
      "ddply_projects_per_author_matrix <- as.matrix(ddply_projects_per_author[, \"repo_count\"])\n",
      "#row.names(ddply_projects_per_author_matrix) <- getUserName(ddply_projects_per_author[, \"author\"])\n",
      "barplot(t(ddply_projects_per_author_matrix),horiz=TRUE,cex.names=1.0,xlim=c(0,25),xlab=\"Number of Repositories\", main=\"Number of Repositories contributed by each user\")\n",
      "grid(nx=7,ny=1,lty=1)\n",
      "\n",
      "####\n",
      "\n",
      "\n",
      "ddply_auth_project = ddply(user_commit_activity,\n",
      "                           c(\"author\", \"repository\"),\n",
      "                           summarize,\n",
      "                           temp = length(language)\n",
      "                           \n",
      ")\n",
      "ddply_auth_project$ <- factor(ddply_auth_project$x) \n",
      "\n",
      "print(head(ddply_auth_project))\n",
      "\n",
      "ddply_projects_per_repos = ddply( ddply_auth_project,\n",
      "                                   c(\"repository\"), \n",
      "                                   summarize,        \n",
      "                                   author_count = length(author)\n",
      "                                  \n",
      ")\n",
      "print(head(ddply_projects_per_repos))\n",
      "\n",
      "par(las=2)\n",
      "par(mar=c(5,8,4,2))\n",
      "ddply_projects_per_repos_matrix <- as.matrix(ddply_projects_per_repos[, \"author_count\"])\n",
      "#row.names(ddply_projects_per_author_matrix) <- getUserName(ddply_projects_per_author[, \"author\"])\n",
      "barplot(t(ddply_projects_per_repos_matrix),horiz=TRUE,cex.names=1.0,xlim=c(0,500),xlab=\"Number of Contributors\", main=\"Number of Contributors for each Repository\")\n",
      "grid(nx=7,ny=1,lty=1)\n"
     ],
     "language": "python",
     "metadata": {},
     "outputs": []
    },
    {
     "cell_type": "markdown",
     "metadata": {},
     "source": [
      "<img src=\"images/Contr_repo_plot.png\" width = 1000 height=800>"
     ]
    },
    {
     "cell_type": "markdown",
     "metadata": {},
     "source": [
      "<img src=\"images/repo_auth.png\" width = 1000 height=800>"
     ]
    },
    {
     "cell_type": "heading",
     "level": 1,
     "metadata": {},
     "source": [
      "Rspository Analysis"
     ]
    },
    {
     "cell_type": "heading",
     "level": 2,
     "metadata": {},
     "source": [
      "Stars versus Average Contribution Ratios for Developers for each repository"
     ]
    },
    {
     "cell_type": "markdown",
     "metadata": {},
     "source": [
      "<img src=\"images/Plot3.png\" width = 1000 height=800>"
     ]
    },
    {
     "cell_type": "heading",
     "level": 2,
     "metadata": {},
     "source": [
      "Forks versus Average Contribution Ratios for Developers for each repository"
     ]
    },
    {
     "cell_type": "markdown",
     "metadata": {},
     "source": [
      "<img src=\"images/Plot2.png\" width = 1000 height=800>"
     ]
    },
    {
     "cell_type": "heading",
     "level": 3,
     "metadata": {},
     "source": [
      "K Means Clustering on Developers Based on their Contribution Ratios to Languages"
     ]
    },
    {
     "cell_type": "heading",
     "level": 4,
     "metadata": {},
     "source": [
      "Number of Clusters : 5"
     ]
    },
    {
     "cell_type": "markdown",
     "metadata": {},
     "source": [
      "We tried to cluster users based on their contribution to Languages. The figure shows the various clusters with cluster ids."
     ]
    },
    {
     "cell_type": "code",
     "collapsed": false,
     "input": [
      "%%R\n",
      "user_contribution_cursor <- mongo.find(mongo_rmongodb, ns = \"dataset.contributionratios\" )\n",
      "user_lang_contribution_df <- matrix(0,nrow=1,ncol=length(unique_languages))\n",
      "author_id_vector <-c()\n",
      "while (mongo.cursor.next(user_contribution_cursor))\n",
      "{\n",
      "    item <- mongo.cursor.value(user_contribution_cursor)\n",
      "    authorId <- mongo.bson.value(item, \"author\")\n",
      "    author_id_vector <- c(author_id_vector, mongo.oid.to.string(authorId))\n",
      "    contributions_list <- mongo.bson.value(item, \"contribution_ratio\")\n",
      "\n",
      "        #print(class(contributions_list))\n",
      "        language_zeros <- matrix(0,nrow=1,ncol=length(unique_languages))\n",
      "        #print(length(language_zeros))\n",
      "\n",
      "        for(contribution in contributions_list)\n",
      "        {\n",
      "            #print((contribution$language))\n",
      "            #print (\"------\")\n",
      "            #print (contribution)\n",
      "            if(class(contribution$language) != \"NULL\")\n",
      "            {\n",
      "                # print(match(tolower(contribution$language),tolower(unique_languages)))\n",
      "                #print (contribution$language)\n",
      "                #print (contribution$ratio)\n",
      "                 if (class(contribution$ratio) != \"NULL\") {\n",
      "                     language_zeros[match(tolower(contribution$language),tolower(unique_languages))] <- contribution$ratio\n",
      "                 }\n",
      "            }\n",
      "        }\n",
      "        #print(language_zeros)\n",
      "    user_lang_contribution_df <- rbind(user_lang_contribution_df,language_zeros)\n",
      "    #user_lang_contribution_df <- rbind(user_lang_contribution_df, data.frame(author=mongo.oid.to.string(authorId),languages=language_zeros))\n",
      "}\n",
      "\n",
      "user_lang_contribution_df <- user_lang_contribution_df[-1,]\n",
      "user_lang_contribution_dataframe <- data.frame(user_lang_contribution_df)\n",
      "row.names(user_lang_contribution_dataframe) <- author_id_vector\n",
      "print(rownames(user_lang_contribution_dataframe))\n",
      "print(dim(user_lang_contribution_dataframe))\n",
      "\n",
      "cl <- kmeans(user_lang_contribution_dataframe, 5)\n",
      "\n",
      "plotcluster(user_lang_contribution_df, cl$cluster, pointsbyclvecd = TRUE)\n",
      "\n",
      "cluster_vector <- cl$cluster\n",
      "\n",
      "y <- which(cluster_vector==3, arr.in=TRUE)\n",
      "print(length(y))\n",
      "print(cl$size)\n",
      "\n"
     ],
     "language": "python",
     "metadata": {},
     "outputs": []
    },
    {
     "cell_type": "markdown",
     "metadata": {},
     "source": [
      "<img src=\"images/cluster.png\" width = 700 height=500>"
     ]
    },
    {
     "cell_type": "markdown",
     "metadata": {},
     "source": [
      "<img src=\"images/Clusters.png\" width = 800 height=1000>"
     ]
    },
    {
     "cell_type": "heading",
     "level": 1,
     "metadata": {},
     "source": [
      "Team Contributions "
     ]
    },
    {
     "cell_type": "markdown",
     "metadata": {},
     "source": [
      "* <b>Data:</b> <br/>\n",
      "Data acquisition effort, Data novelty: <b>Badhrinathan, Kumar and Thakur </b><br/><br/>\n",
      "* <b>Analysis:</b> IPython notebook construction effort <br/>\n",
      "    Data analysis Code: <b>Balan, Ganapathy</b> <br/>\n",
      "    Data analysis methods: <b>Badhrinathan, Balan, Thakur, Kumar</b><br/><br/>\n",
      "\n",
      "* <b>Documentation:</b> <br/>\n",
      "Presentation Effort: <b>Thakur, Balan</b> <br/>\n",
      "\tproject summary effort: <b>Badhrinathan, Balan, Thakur, Kumar</b><br/><br/>\n",
      "* <b> Overall:</b> project methods, project creativity, project difficulty :    \n",
      "\t<b>Badhrinathan, Kumar, Balan, Thakur, Ganapathy</b>"
     ]
    },
    {
     "cell_type": "heading",
     "level": 1,
     "metadata": {},
     "source": [
      "Problems Faced"
     ]
    },
    {
     "cell_type": "markdown",
     "metadata": {},
     "source": [
      "\n",
      "<b>Issues with data collection:</b>\n",
      "<p>\n",
      "\tThe dataset was mainly obtained from GitHub APIs. A major limitation for these APIs is that they are rate limited as a result we can only make a limited number for http requests to the server. Since our data collection involves multiple api requests we had to come up with way around this problem. We developed a new library called job queue which basically works on the concept of producer comsumer model. It must be noted that the consumers are rate limited which ensures proper functioning of data collection. Moreover we had to ensure that all the consumers are suthenticated with the GITHUB server.\n",
      "</p><br/>\n",
      "<b>Dirty data:</b>\n",
      "<p>\n",
      "\tThe data that we get from the APIS was not in the format suitable for the analysis that we intended to perform. So we had to introduce a new preprocessing stage where we perform the following operations to transform the data :\n",
      "\t1) MongoDB Map-Reduce\n",
      "\t2) MongoDB Aggregation\n",
      "\t3) R ddply\n",
      "    The information extracted from these analysis are mentioned in the data schema section.\n",
      "</p><br/>\n",
      "<b>Memory and CPU limitations:</b>\n",
      "<p>\n",
      "\tSince the scale of data requred was high and the data collection and data preprocessing was complicated we faced issues with high CPU utilization while running our code. Moreover there were issues with the machine running the code going out of memory. We also faced issues with storage space limitations on SeasNet Servers. As a result we had to parallelize our code and run it across multiple machines. And each of these instances took a lot of time to run.\n",
      "</p><br/>\n",
      "\n",
      "<b>Suitable libraries for mongoDB in R:</b>\n",
      "<p>\n",
      "\tEven though libraries exist for extracting information from MongoDB we faced issues with complicated functionality and queries where we had to find documents by `ObjectId`. Also the `RMongo` library had some limitations for extracting required fields so we had t parse the string obtained. Also the documentation was not sufficient. Figuring out to how to use the library in R took a lot of time.\n",
      "</p><br/>\n",
      "<b>IPython doesn't support NodeJS and CoffeeScript:</b>\n",
      "<p>\n",
      "\tWe initially attempted to run data extraction code in CoffeScript from iPython notebook but since it doesn't support these languages we had to run this code separately\n",
      "</p><br/>\n",
      "<b>Language identification from fileNames and content:</b>\n",
      "<p>\n",
      "\tWe faced challenges with identifying programming language given a fileName. We used a `linguist` library support for this.\n",
      "    </p><br/>"
     ]
    },
    {
     "cell_type": "heading",
     "level": 1,
     "metadata": {},
     "source": [
      "Summary, Experiences and lessons learnt"
     ]
    },
    {
     "cell_type": "markdown",
     "metadata": {},
     "source": [
      "<b>Logistics:</b>\n",
      "\n",
      "1) Based on the amount of time and efforts spent on the initial data collection and preprocessing, we have realized that data extraction is as important and challenging as data analysis. We intend to develop a framework for data analysis that can ease the pain of data collection and standardize practices of data collection\n",
      "\n",
      "2) Solving the issue of rate limit helped us analyze various ways of atacking a particular problem like synchronization, parallel programming, scale etc.\n",
      "\n",
      "3) Data analysis on smaller data set before going ahead with bigger data helped us save time during analysis since we could detect earlier whether particular analysis made sense and whether we could use it or not.\n",
      "\n",
      "4) We had to do a lot reading, brain storming and consider all possible features and analyze on the ones that made the most sense. Unlike a nomal case where you are given features we had to come up with features and evaluate them. This was a good learning experience.\n",
      "\n",
      "6) Experimenting with libraries was another good learning experience. We tried a lot of analysis libraries as well as data extraction libraries this gave us a good idea of what all exists out there apart from what we already know. \n",
      "\n",
      "<b>Trends in dataset:</b>\n",
      "\n",
      "1) Volume of commits for programming languages have increased across all languages over time.<br/>\n",
      "\n",
      "2) The fluctuations in the commit activity for a particular language characterizes the evolution of that language like in case of `coffeescript`<br/>\n",
      "\n",
      "3) It seems from the data that time plays an important role in the number of stars and forks gained by a particular repository. For example we found repositories like 'eggert/tz' which is a very important repository it has the Time Zone Database (often called tz or zoneinfo) which contains code and data that represent the history of local time for many representative locations around the globe. This repository however has very few stars and forks this in a way could be attributed to year when the repository was created. It seems that older repositories tends to gather less attention and accessibility as compared to recent repositories that might not be as critical.<br/>\n",
      "\n",
      "4) There are very few languages which have low accessibility and high popularity and viceversa indicating direct proportionality between forks and stars<br/>\n",
      "\n",
      "5) Average activity and number of committers for a popular langauage is higher.<br/>"
     ]
    },
    {
     "cell_type": "heading",
     "level": 1,
     "metadata": {},
     "source": [
      "References"
     ]
    },
    {
     "cell_type": "markdown",
     "metadata": {},
     "source": [
      "[1] GitHub API reference, https://developer.github.com/v3/ <br>\n",
      "[2] The impact of language choice on github projects, http://corte.si/posts/code/devsurvey/ <br>\n",
      "[3] GitHub data analysis, http://www.r-bloggers.com/github-data-analysis/ <br>\n",
      "[4] Mining the Social Web, <a target=\"_blank\" title=\"http://nbviewer.ipython.org/github/ptwobrussell/Mining-the-Social-Web-2nd-Edition/blob/master/ipynb/Chapter%207%20-%20Mining%20GitHub.ipynb\" href=\"http://nbviewer.ipython.org/github/ptwobrussell/Mining-the-Social-Web-2nd-Edition/blob/master/ipynb/Chapter%207%20-%20Mining%20GitHub.ipynb\">Chapter 7 - Mining GitHub</a> <br>\n",
      "[5] Coffescript Data Analysis (2013) - http://en.wikipedia.org/wiki/CoffeeScript <br>\n",
      "[6] Job Queue - https://github.com/GotEmB/job-queue\n",
      "\n",
      "<br/>\n",
      "Github Repository - https://github.com/GotEmB/potential-archer"
     ]
    }
   ],
   "metadata": {}
  }
 ]
}