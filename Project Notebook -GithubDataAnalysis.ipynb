{
 "metadata": {
  "name": "",
  "signature": "sha256:f646315289c59488a6ee2078f05cdba27ba33eca31f1bf964004694c12869913"
 },
 "nbformat": 3,
 "nbformat_minor": 0,
 "worksheets": [
  {
   "cells": [
    {
     "cell_type": "heading",
     "level": 1,
     "metadata": {},
     "source": [
      "Course Project Notebook"
     ]
    },
    {
     "cell_type": "heading",
     "level": 2,
     "metadata": {},
     "source": [
      "Team Members"
     ]
    },
    {
     "cell_type": "markdown",
     "metadata": {},
     "source": [
      "\n",
      "<b>Aravindan Balan</b> (aravindan@cs.ucla.edu)\n",
      "\n",
      "<b>Aravind Ganapathy</b> (ag1990@cs.ucla.edu)\n",
      "\n",
      "<b>Gautham Badhrinathan</b> (gotemb@cs.ucla.edu)\n",
      "\n",
      "<b>Manoj Thakur</b> (manojrthakur@cs.ucla.edu)\n",
      "\n",
      "<b>Praphull Kumar</b> (praphull@cs.ucla.edu)"
     ]
    },
    {
     "cell_type": "heading",
     "level": 2,
     "metadata": {},
     "source": [
      "Project Goal and Motivation"
     ]
    },
    {
     "cell_type": "markdown",
     "metadata": {},
     "source": [
      "GitHub is a rich source of skillful developers for your next startup, it is also a good place to figure out which language you would want to use for your next startup. \n",
      "\n",
      "But the questions to ask are:\n",
      "<ul>\n",
      "<p><b>Developers</b></p>\n",
      "<li>How do we identify potential useful developers for a particular skillset?</li><br/>\n",
      "<b>Languages</b><br/>\n",
      "<li>How effective is a language?</li>\n",
      "<li>How accesible is a language?</li>\n",
      "<li> How impactful is a language?</li>\n",
      "</ul>\n",
      "\n",
      "<ul>\n",
      "<br/>\n",
      "The goal of the project was to carry out data analysis on a subset of git repositories; Our goal was to analyze the trend in activities and the impact of those activities on a particular repository. The analysis is performed for each developer per programming language basis (the language the developer is actively working on). <br/> <br/>\n",
      "\n",
      "<li><b>Language perspective Analysis:</b></li><br/>\n",
      "\n",
      "<b>Forks :</b><br/>\n",
      "We took forks as measure of accessibility; Users fork repositories they feel they can actually contribute to. Consequently we felt that languages that form a high proportion of these highly forked repositories were more accessible, as they correspond to \"easier\" projects\" and learning them, allows devlopers to make an immediate contribution. <br/><br/>\n",
      "\n",
      "<b>Stars :</b><br/>\n",
      "Similarly we judged languages that were used in highly starred repositories to be more effective. We assumed that more stars meant the project quality was higher, and therefore certain lnguages are mediums to create better quality projects. <br/> <br/>\n",
      "\n",
      "For developers we sought metrics to determine their experience and quality. As a proxy for experience in a particular language we  came up with the metric <b>\"contribution ratio\"</b>; this was the number of lines contributed by a developer over all lines contributed in that language. <br/> <br/>\n",
      "\n",
      " <li><b> Developer Analysis:</b></li>\n",
      "\n",
      "For a developer's skill in a language we looked at his commits individually, summing the stars of the repository contributed to by the developer weighted by the proportion of the repository written in that language. The idea was that contributions to a highly starred repository would have to be up to some standard of quality, or else they'd be rolled back. Using these metrics we try to address the questions posed above for developers. <br/>\n",
      "\n",
      "This metric indicates the amount of contribution of a developer towards a particular language.<br/>\n",
      "\n",
      "We also analyze the relationship between repository popularity and it's attributes. This analysis provides an indication of which factors contribute to high number of followers, forks, pull requests and watchers for a repository. <br/>\n",
      "\n",
      "<ul>\n"
     ]
    },
    {
     "cell_type": "heading",
     "level": 2,
     "metadata": {},
     "source": [
      "Github DataSet"
     ]
    },
    {
     "cell_type": "markdown",
     "metadata": {},
     "source": [
      "We have analyzed the data from GitHub. The data was collected using the GitHub APIs [1]. The data is stored in the following format:\n",
      "\n",
      "<ul>\n",
      "<li>\n",
      "<b>Developer contribution information :</b> For each developer we store the repositories he has contributed to. In each of these repositories we store the activity information like the number of lines of code modified by the user, the timestamp of the change, corresponding to which programming language was the change made. This data helped us identify the contribution and impact of a developer to a particular programming language.\n",
      "</li>\n",
      "<br/>\n",
      "<li>\n",
      "<b>Repository information : </b> For each repository we store attributes like the programming languages involved, number of contributors, stars, number of forks. This information helped us to infer popular and easy languages. This information can enable an individual to decide on which programming language to use for a particular project.\n",
      "</li>\n",
      "</ul>"
     ]
    },
    {
     "cell_type": "heading",
     "level": 2,
     "metadata": {},
     "source": [
      "Project Stages"
     ]
    },
    {
     "cell_type": "markdown",
     "metadata": {},
     "source": [
      "The project is divided into three main stages:\n",
      "<ul>\n",
      "<li><b>Data Collection  Stage</b>: This stage involves data retrieval from GitHub APIs. The code for this stage is written CoffeeScript.</li>\n",
      "<li><b>Data Pre-processing Stage</b>: This stage involves creation of additional collections in mongodb from the collections obtained in previous stage. The collections creates in this stage are used for data analysis stage. The code in this stage is also written in coffeescript.</li>\n",
      "<li><b>Data Analysis Stage</b>: This stage involves analyzing the informaion collected to find trends in the information especially related to programming languages and developers. Most of the analysis code is written in R</li>\n",
      "</ul>"
     ]
    },
    {
     "cell_type": "heading",
     "level": 2,
     "metadata": {},
     "source": [
      "Data Collection"
     ]
    },
    {
     "cell_type": "markdown",
     "metadata": {},
     "source": [
      "<p>We collected the data using GitHub .APIs. The code was written in <b>CoffeeScript</b>. We have created seperate scripts for each DB collection namely User, Repositories and Commits. We store the fetched data into MongoDB in a suitable format for Data Analysis.\n",
      "</p>\n",
      "<p>\n",
      "<b>Difficulties Faced:</b>\n",
      "<p>\n",
      "We faced\n",
      "</p>\n",
      "</p>"
     ]
    },
    {
     "cell_type": "heading",
     "level": 2,
     "metadata": {},
     "source": [
      "Github Dataset Schema"
     ]
    },
    {
     "cell_type": "markdown",
     "metadata": {},
     "source": [
      "The data collected contains three main parts:"
     ]
    },
    {
     "cell_type": "heading",
     "level": 3,
     "metadata": {},
     "source": [
      "Users"
     ]
    },
    {
     "cell_type": "raw",
     "metadata": {},
     "source": [
      "Users correspond to developers who have committed to the repositories that exist in our data set\n",
      "\n",
      "Schema\n",
      "\n",
      "{\n",
      "    username: type: String, index: true,\n",
      "    languages: [\n",
      "        language: String,\n",
      "        temporal: [\n",
      "            period: String,\n",
      "            changes: Number,\n",
      "        ]\n",
      "    ],\n",
      "    starsEarned: Number,\n",
      "    followers: Number\n",
      "}\n",
      "\n",
      "Count: 43750 users"
     ]
    },
    {
     "cell_type": "heading",
     "level": 3,
     "metadata": {},
     "source": [
      "Repositories"
     ]
    },
    {
     "cell_type": "raw",
     "metadata": {},
     "source": [
      "Repositories (projects) for which we have information in our dataset\n",
      "\n",
      "Schema\n",
      "\n",
      "{\n",
      "\tfullName: type: String, index: true,\n",
      "\tstars: Number,\n",
      "\tforks: Number,\n",
      "\tcontributors: [\n",
      "\t\tuser: type: mongoose.Schema.ObjectId, ref: \"User\",\n",
      "\t\tweight: Number\n",
      "\t]\n",
      "\tlanguages: [\n",
      "\t\tlanguage: String,\n",
      "\t\tlineCount: Number\n",
      "\t],\n",
      "\t(*) done: Boolean, \n",
      "\t(*) instanceId: String,\n",
      "\t(*) serverError: Boolean\n",
      "}\n",
      "\n",
      "Count: 805 repositories"
     ]
    },
    {
     "cell_type": "heading",
     "level": 3,
     "metadata": {},
     "source": [
      "Commits"
     ]
    },
    {
     "cell_type": "raw",
     "metadata": {},
     "source": [
      "Commits made by developers to the repositories that exist in our dataset \n",
      "\n",
      "Schema\n",
      "\n",
      "{\n",
      "\tsha: type: String, index: true,\n",
      "\tauthor: type: mongoose.Schema.ObjectId, ref: \"User\",\n",
      "\trepository: type: mongoose.Schema.ObjectId, ref: \"Repository\",\n",
      "\tchanges: [\n",
      "\t\tlanguage: String,\n",
      "\t\tcount: Number\n",
      "\t],\n",
      "\ttimestamp: Date\n",
      "}\n",
      "\n",
      "Count: 1385028 commits"
     ]
    },
    {
     "cell_type": "heading",
     "level": 2,
     "metadata": {},
     "source": [
      "Derived Collections"
     ]
    },
    {
     "cell_type": "markdown",
     "metadata": {},
     "source": [
      "Apart from the entities mentioned above we require additional information that is derived from the above mentioned collections. These are used in the analysis stage."
     ]
    },
    {
     "cell_type": "heading",
     "level": 3,
     "metadata": {},
     "source": [
      "User Average Weight"
     ]
    },
    {
     "cell_type": "raw",
     "metadata": {},
     "source": [
      "Average contribution of a user across all the repositories that he/she contributes to\n",
      "\n",
      "Schema:\n",
      "{\n",
      "\tauthor: type: mongoose.Schema.ObjectId, ref: \"User\",\n",
      "\tweight: Number\n",
      "}"
     ]
    },
    {
     "cell_type": "heading",
     "level": 3,
     "metadata": {},
     "source": [
      "User Commit Activity"
     ]
    },
    {
     "cell_type": "raw",
     "metadata": {},
     "source": [
      "Total contribution of a user to a particular repository for a particular language\n",
      "\n",
      "Schema:\n",
      "{\n",
      "\tauthor: type: mongoose.Schema.ObjectId, ref: \"User\",\n",
      "\trepository: type: mongoose.Schema.ObjectId, ref: \"Repository\",\n",
      "\tlanguage: String,\n",
      "\tchanges: Number\n",
      "}"
     ]
    },
    {
     "cell_type": "heading",
     "level": 3,
     "metadata": {},
     "source": [
      "Repository Commit Activity"
     ]
    },
    {
     "cell_type": "raw",
     "metadata": {},
     "source": [
      "Total changes made to a repository for each language\n",
      "\n",
      "Schema:\n",
      "{\n",
      "\trepository: type: mongoose.Schema.ObjectId, ref: \"Repository\",\n",
      "\tlanguage: String,\n",
      "\tchanges: Number\n",
      "}"
     ]
    },
    {
     "cell_type": "heading",
     "level": 3,
     "metadata": {},
     "source": [
      "Contribution Ratio"
     ]
    },
    {
     "cell_type": "raw",
     "metadata": {},
     "source": [
      "For each user contribution score (contribution ratio) for each language that the user has contributed to\n",
      "\n",
      "ContributionRatio\n",
      "{\n",
      "\tauthor: type: mongoose.Schema.ObjectId, ref: \"User\",\n",
      "\tcontribution_ratio: [\n",
      "\t\tlanguage: String,\n",
      "\t\tratio: Number\n",
      "\t]\n",
      "}"
     ]
    },
    {
     "cell_type": "heading",
     "level": 2,
     "metadata": {},
     "source": [
      "Function Stack"
     ]
    },
    {
     "cell_type": "markdown",
     "metadata": {},
     "source": [
      "<img src=\"images/Stack.001.png\" width = 900 height=900>"
     ]
    },
    {
     "cell_type": "heading",
     "level": 2,
     "metadata": {},
     "source": [
      "Libraries Used"
     ]
    },
    {
     "cell_type": "markdown",
     "metadata": {},
     "source": [
      "We have used some packages for reading and playing with the data.\n",
      "\n",
      "<b>RMongo</b> and <b>rmongodb</b> are packages used to read data from the mongodb. \n",
      "\n",
      "rmongodb - http://cran.r-project.org/web/packages/rmongodb/rmongodb.pdf\n",
      "\n",
      "Rmongo -   http://cran.r-project.org/web/packages/RMongo/RMongo.pdf\n",
      "\n",
      "We have also used the most powerful package for data analysis <b>\"plyr\"</b> in R to perform split, apply and combine functions on the data frames created. \n",
      "\n",
      "We found that <b>plyr</b> very useful and powerful for performing those operations on our huge dataset."
     ]
    },
    {
     "cell_type": "code",
     "collapsed": false,
     "input": [
      "%load_ext rmagic\n",
      "import rpy2 as Rpy"
     ],
     "language": "python",
     "metadata": {},
     "outputs": [
      {
       "output_type": "stream",
       "stream": "stdout",
       "text": [
        "The rmagic extension is already loaded. To reload it, use:\n",
        "  %reload_ext rmagic\n"
       ]
      }
     ],
     "prompt_number": 14
    },
    {
     "cell_type": "code",
     "collapsed": false,
     "input": [
      "%%R\n",
      "\n",
      "###################### libraries used ##############################################\n",
      "not.installed=function(package_name)  !is.element(package_name,installed.packages()[,1])\n",
      "\n",
      "\n",
      "if (not.installed(\"rmongodb\")) \n",
      "  install.packages(\"rmongodb\")\n",
      "if (not.installed(\"reshape2\")) \n",
      "  install.packages(\"reshape2\")\n",
      "if (not.installed(\"data.table\")) \n",
      "  install.packages(\"data.table\")\n",
      "if (not.installed(\"plyr\")) \n",
      "  install.packages(\"plyr\")\n",
      "if (not.installed(\"ggplot2\")) \n",
      "  install.packages(\"ggplot2\")\n",
      "if (not.installed(\"RMongo\"))\n",
      "  install.packages(\"RMongo\")\n",
      "if (not.installed(\"hash\"))\n",
      "  install.packages(\"hash\")\n",
      "\n",
      "if (not.installed(\"graphics\"))\n",
      "  install.packages(\"graphics\")\n",
      "\n",
      "if (not.installed(\"fpc\"))\n",
      "  install.packages(\"fpc\")\n",
      "if (not.installed(\"cluster\"))\n",
      "  install.packages(\"cluster\")\n",
      "\n",
      "library(\"fpc\")\n",
      "\n",
      "library(\"graphics\")\n",
      "library(\"stringr\")\n",
      "library(\"rjson\") \n",
      "library(\"ggplot2\") \n",
      "library(\"rmongodb\") \n",
      "library(\"reshape2\") \n",
      "library(\"MASS\") \n",
      "library(\"plyr\")\n",
      "library(\"RMongo\")\n",
      "library(\"hash\")\n",
      "require(\"data.table\")\n",
      "library(\"cluster\")\n",
      "library(\"HSAUR\")\n",
      "library(\"plyr\")\n"
     ],
     "language": "python",
     "metadata": {},
     "outputs": [],
     "prompt_number": 15
    },
    {
     "cell_type": "code",
     "collapsed": false,
     "input": [
      "%%R\n",
      "\n",
      "##################### Utility Functions ###########################\n",
      "find_stars_lang <- function(df, repo, lang)\n",
      "{\n",
      "  lang <- tolower(lang)\n",
      "  \n",
      "  ret <- 0\n",
      "  for(i in 1:nrow(df))\n",
      "  {\n",
      "    if(toString(df[i,1]) == repo && lang == tolower(toString(df[i,5])))\n",
      "    {\n",
      "      ret <- df[i,8]\n",
      "    }\n",
      "  }\n",
      "  ret\n",
      "}\n",
      "\n",
      "#find_forks_lang(ddply_sum_lineCount, \"537fc5b7280ef15170b56d3b\", \"js\")\n",
      "\n",
      "find_forks_lang <- function(df, repo, lang)\n",
      "{\n",
      "  ret <- 0\n",
      "  for(i in 1:nrow(df))\n",
      "  {\n",
      "    if(toString(df[i,1]) == repo && lang == toString(df[i,5]))\n",
      "    {\n",
      "      ret <- df[i,9]\n",
      "    }\n",
      "  }\n",
      "  ret\n",
      "}\n",
      "\n",
      "find_lang_contrib_ratio <- function(bs, lang)\n",
      "{\n",
      "  lang = tolower(lang)\n",
      "  c_ratios <- mongo.bson.value(bs,\"contribution_ratio\")\n",
      "  ratio <- 0\n",
      "  for(i in 1:length(c_ratios))\n",
      "  {\n",
      "    if(!is.null(c_ratios[i][[1]]$language) && tolower(c_ratios[i][[1]]$language) == lang)\n",
      "    {\n",
      "      \n",
      "       ratio <- c_ratios[i][[1]]$ratio\n",
      "    }\n",
      "  }\n",
      "  ratio\n",
      "}\n",
      "\n",
      "#################################################################################\n",
      "x=1"
     ],
     "language": "python",
     "metadata": {},
     "outputs": [],
     "prompt_number": 16
    },
    {
     "cell_type": "heading",
     "level": 2,
     "metadata": {},
     "source": [
      "Languages Analysis"
     ]
    },
    {
     "cell_type": "markdown",
     "metadata": {},
     "source": [
      "The analysis for a particular language is based on two main aspects:\n",
      "<ul>\n",
      "<li><b>Average popularity </b>: it signifies how popular a programming language is. This is mainly calculated by performing the following steps: <br>\n",
      "    <ul>\n",
      "        <li>For each language find all repositories that have code in that language</li>\n",
      "        <li>For each of these repositories find what percent of the code is written in that language</li>\n",
      "        <li>Multiply the stars earned by that repository by the ratio found above</li>\n",
      "        <li>Sum all the values calculated in above step</li>\n",
      "    </ul>    \n",
      "</li>\n",
      "<li><b>Average accessibility</b>: it signifies how accessible or how widely accepted in terms of coding is a programming language. This is mainly calculated by performing the following steps: <br>\n",
      "    Follow the same steps as above except that consider the forks instead of stars earned by the repository.\n",
      "</li>\n",
      "</ul>\n",
      "\n",
      "Plotting languages in a 2-dimensional space where one dimension is avg. popularity and other is avg. accessibiliy gives an indication of <b>how effective a particular language is.</b>"
     ]
    },
    {
     "cell_type": "heading",
     "level": 3,
     "metadata": {},
     "source": [
      "Number of Unique Languages : 145  *************** (execute in some other system - doesnt have all the data)"
     ]
    },
    {
     "cell_type": "code",
     "collapsed": false,
     "input": [
      "%%R -w 700 -h 500\n",
      "\n",
      "##find all unique languages\n",
      "get_all_lang <- function()\n",
      "{\n",
      "  mongo <- mongoDbConnect(\"dataset\", host=\"localhost\")\n",
      "  output <- dbAggregate(mongo, \"commits\", c('{ \"$unwind\" : \"$changes\"}',\n",
      "                                            ' { \"$project\" : { \"lang\" : \"$changes.language\" } } ',\n",
      "                                            ' { \"$group\" : { \"_id\" : \"$lang\" } } '))\n",
      "  \n",
      "  Languages_All <- c()\n",
      "  for(i in 1:length(output))\n",
      "  {\n",
      "    bson <- mongo.bson.from.JSON(output[i])\n",
      "    lang <- mongo.bson.value(bson,\"_id\")\n",
      "    if(!is.null(lang) && nchar(lang) > 0)\n",
      "      Languages_All <- c(Languages_All, lang)\n",
      "  }\n",
      "  \n",
      "  unique_languages <- unique(Languages_All)\n",
      "  unique_languages\n",
      "}\n",
      "#######\n",
      "\n",
      "# contains all the languages\n",
      "\n",
      "unique_languages <- get_all_lang()\n",
      "print((unique_languages))\n",
      "print(length(unique_languages))"
     ],
     "language": "python",
     "metadata": {},
     "outputs": [
      {
       "metadata": {},
       "output_type": "display_data",
       "text": [
        "  [1] \"Boo\"                   \"Brainfuck\"             \"Slash\"                \n",
        "  [4] \"Processing\"            \"MediaWiki\"             \"FLUX\"                 \n",
        "  [7] \"CLIPS\"                 \"Gentoo Ebuild\"         \"Ada\"                  \n",
        " [10] \"Volt\"                  \"mupad\"                 \"Shell\"                \n",
        " [13] \"Io\"                    \"Vala\"                  \"Common Lisp\"          \n",
        " [16] \"FORTRAN\"               \"GLSL\"                  \"ActionScript\"         \n",
        " [19] \"JSONiq\"                \"XS\"                    \"QML\"                  \n",
        " [22] \"Frege\"                 \"Creole\"                \"ColdFusion\"           \n",
        " [25] \"Pascal\"                \"Rust\"                  \"Julia\"                \n",
        " [28] \"PowerShell\"            \"CSS\"                   \"INI\"                  \n",
        " [31] \"AutoHotkey\"            \"Prolog\"                \"Protocol Buffer\"      \n",
        " [34] \"Kotlin\"                \"Diff\"                  \"Cython\"               \n",
        " [37] \"Haxe\"                  \"MoonScript\"            \"Haskell\"              \n",
        " [40] \"UnrealScript\"          \"VHDL\"                  \"XQuery\"               \n",
        " [43] \"Lua\"                   \"Gettext Catalog\"       \"C++\"                  \n",
        " [46] \"Turing\"                \"Matlab\"                \"AppleScript\"          \n",
        " [49] \"AspectJ\"               \"Harbour\"               \"LLVM\"                 \n",
        " [52] \"OpenCL\"                \"OCaml\"                 \"Tcl\"                  \n",
        " [55] \"Dart\"                  \"VimL\"                  \"Smarty\"               \n",
        " [58] \"Puppet\"                \"RHTML\"                 \"Groovy\"               \n",
        " [61] \"CoffeeScript\"          \"Stylus\"                \"Elixir\"               \n",
        " [64] \"Java Server Pages\"     \"Perl\"                  \"Ragel in Ruby Host\"   \n",
        " [67] \"Markdown\"              \"Fancy\"                 \"Awk\"                  \n",
        " [70] \"ASP\"                   \"XSLT\"                  \"TOML\"                 \n",
        " [73] \"ABAP\"                  \"Go\"                    \"F#\"                   \n",
        " [76] \"YAML\"                  \"D\"                     \"HTML\"                 \n",
        " [79] \"Org\"                   \"HTTP\"                  \"GAS\"                  \n",
        " [82] \"RDoc\"                  \"Sass\"                  \"R\"                    \n",
        " [85] \"HTML+ERB\"              \"Erlang\"                \"TypeScript\"           \n",
        " [88] \"CMake\"                 \"Standard ML\"           \"Objective-C++\"        \n",
        " [91] \"Textile\"               \"reStructuredText\"      \"SQL\"                  \n",
        " [94] \"Rebol\"                 \"Pod\"                   \"Objective-C\"          \n",
        " [97] \"Cucumber\"              \"fish\"                  \"C\"                    \n",
        "[100] \"Objective-J\"           \"Inno Setup\"            \"Tcsh\"                 \n",
        "[103] \"Literate CoffeeScript\" \"Scheme\"                \"Emacs Lisp\"           \n",
        "[106] \"Mask\"                  \"TeX\"                   \"LiveScript\"           \n",
        "[109] \"Stata\"                 \"Handlebars\"            \"C#\"                   \n",
        "[112] \"Raw token data\"        \"AsciiDoc\"              \"PHP\"                  \n",
        "[115] \"Batchfile\"             \"DOT\"                   \"Verilog\"              \n",
        "[118] \"JSON\"                  \"SCSS\"                  \"eC\"                   \n",
        "[121] \"Assembly\"              \"Python\"                \"Visual Basic\"         \n",
        "[124] \"Scala\"                 \"Gnuplot\"               \"PostScript\"           \n",
        "[127] \"IDL\"                   \"Haml\"                  \"XML\"                  \n",
        "[130] \"NSIS\"                  \"Cuda\"                  \"Twig\"                 \n",
        "[133] \"Less\"                  \"Makefile\"              \"Java\"                 \n",
        "[136] \"Arduino\"               \"HTML+Django\"           \"Clojure\"              \n",
        "[139] \"GAP\"                   \"HTML+PHP\"              \"JavaScript\"           \n",
        "[142] \"Liquid\"                \"Groff\"                 \"Jade\"                 \n",
        "[145] \"Ruby\"                 \n",
        "[1] 145\n"
       ]
      }
     ],
     "prompt_number": 17
    },
    {
     "cell_type": "heading",
     "level": 3,
     "metadata": {},
     "source": [
      "How effective is a language?"
     ]
    },
    {
     "cell_type": "markdown",
     "metadata": {},
     "source": [
      "We create a data frame containing the repository and the Lanuguage information (stars, forks etc.) for each repository and language pair. Then we use split, apply and combine functions on the data to extract useful information from the data we obtained. We calculate the average popularity and average accessibility of each language and plot the same."
     ]
    },
    {
     "cell_type": "code",
     "collapsed": false,
     "input": [
      "%%R\n",
      "\n",
      "########################### How effective is a language ? ##############################\n",
      "\n",
      "users = data.frame(stringsAsFactors = FALSE) \n",
      "repos = data.frame(stringsAsFactors = FALSE)\n",
      "mongo_rmongodb <- mongo.create(host = \"localhost\") \n",
      "mongo_rmongo <- mongoDbConnect(\"dataset\", host=\"localhost\")\n",
      "DBNS_users = \"dataset.users\"\n",
      "DBNS_repos = \"dataset.repositories\"\n",
      "if (mongo.is.connected(mongo_rmongodb)) {\n",
      "  repos = mongo.find.all(mongo_rmongodb, DBNS_repos, list(done=TRUE)) \n",
      "}\n",
      "\n",
      "## create an empty dataframe and populate the same with repos and language data\n",
      "repos_by_languages <- data.frame(stringsAsFactors = FALSE)\n",
      "\n",
      "for(i in 1: nrow(repos))\n",
      "{\n",
      "  repos_one <-  repos[i,]\n",
      "  languages_list <- repos_one$languages\n",
      "  \n",
      "  totalLineCount <- 0\n",
      "  if(!is.na(repos_one$stars) && repos_one$stars > 5 && !is.na(length(languages_list)) && class(repos_one$stars)!= 'mongo.oid')\n",
      "  {\n",
      "    for(j in 1:length(languages_list))\n",
      "    {\n",
      "      totalLineCount = totalLineCount + languages_list[[j]][['lineCount']]\n",
      "    }\n",
      "    for(j in 1:length(languages_list))\n",
      "    {\n",
      "      repos_by_languages <- rbind(repos_by_languages, data.frame(id=mongo.oid.to.string(repos[i,1][[1]]),name=repos_one$fullName,stars = repos_one$stars, forks = repos_one$forks, language = languages_list[[j]]['language'] , linecount = languages_list[[j]][['lineCount']], totalLineCount = totalLineCount ))\n",
      "    }\n",
      "  }\n",
      "}\n",
      "\n",
      "cat(\"Table data : \\n\\n\\n\")\n",
      "print(head(repos_by_languages))\n",
      "cat(\"\\n\\n\\n\")\n",
      "cat(\"Dimensions : \\n\")\n",
      "print(dim(repos_by_languages))\n",
      "\n",
      "\n",
      "##### Use split, apply and combine to find the popularity and accessibility and proportional line count\n",
      "ddply_sum_lineCount = ddply( repos_by_languages,\n",
      "                             c(\"id\",\"name\", \"stars\",\"forks\",\"language\",\"linecount\"), \n",
      "                             summarize,        \n",
      "                             prop_lineCount = linecount/totalLineCount, \n",
      "                             popularity = stars * prop_lineCount,\n",
      "                             accessibility = forks * prop_lineCount\n",
      ")  \n",
      "\n",
      "cat(\"Table data : \\n\\n\\n\")\n",
      "print(head(ddply_sum_lineCount))\n",
      "cat(\"\\n\\n\\n\")\n",
      "cat(\"Dimensions : \\n\")\n",
      "print(dim(ddply_sum_lineCount))\n",
      "\n",
      "\n",
      "##### Use split, apply and combine to find the average popularity and accessibility\n",
      "ddply_Overall = ddply( ddply_sum_lineCount,\n",
      "                       c(\"language\"), \n",
      "                       summarize,        \n",
      "                       avg_popularity = mean(popularity),\n",
      "                       avg_accessibility = mean(accessibility)\n",
      ")  \n",
      "cat(\"Table data : \\n\\n\\n\")\n",
      "print(head(ddply_Overall))\n",
      "cat(\"\\n\\n\\n\")\n",
      "cat(\"Dimensions : \\n\")\n",
      "print(dim(ddply_Overall))\n",
      "\n",
      "#ggplot(ddply_Overall,aes(x= avg_popularity, y = avg_accessibility, colour = language)) + geom_point() + \n",
      "#  geom_text(aes(label=language),hjust=0, vjust=0)\n",
      "x=1"
     ],
     "language": "python",
     "metadata": {},
     "outputs": [
      {
       "metadata": {},
       "output_type": "display_data",
       "text": [
        "Table data : \n",
        "\n",
        "\n",
        "                        id              name stars forks   language linecount\n",
        "1 537fc5b7280ef15170b56d3b bartaz/impress.js 20366  4150        CSS     21141\n",
        "2 537fc5b7280ef15170b56d3b bartaz/impress.js 20366  4150 JavaScript     32840\n",
        "3 538006aa280ef15170b5a296 Prinzhorn/skrollr  8881  1689 JavaScript    103132\n",
        "4 538006aa280ef15170b5a296 Prinzhorn/skrollr  8881  1689        CSS      8434\n",
        "5 5380183c280ef15170b5a7c3   nnnick/Chart.js  8025  2638 JavaScript    175411\n",
        "6 5380183c280ef15170b5a7c3   nnnick/Chart.js  8025  2638        CSS     14218\n",
        "  totalLineCount\n",
        "1          53981\n",
        "2          53981\n",
        "3         111566\n",
        "4         111566\n",
        "5         189629\n",
        "6         189629\n",
        "\n",
        "\n",
        "\n",
        "Dimensions : \n",
        "[1] 2553    7\n",
        "Table data : \n",
        "\n",
        "\n",
        "                        id              name stars forks   language linecount\n",
        "1 537fc5b7280ef15170b56d3b bartaz/impress.js 20366  4150        CSS     21141\n",
        "2 537fc5b7280ef15170b56d3b bartaz/impress.js 20366  4150 JavaScript     32840\n",
        "3 538006aa280ef15170b5a296 Prinzhorn/skrollr  8881  1689 JavaScript    103132\n",
        "4 538006aa280ef15170b5a296 Prinzhorn/skrollr  8881  1689        CSS      8434\n",
        "5 5380183c280ef15170b5a7c3   nnnick/Chart.js  8025  2638 JavaScript    175411\n",
        "6 5380183c280ef15170b5a7c3   nnnick/Chart.js  8025  2638        CSS     14218\n",
        "  prop_lineCount popularity accessibility\n",
        "1     0.39163780  7976.0954     1625.2969\n",
        "2     0.60836220 12389.9046     2524.7031\n",
        "3     0.92440349  8209.6274     1561.3175\n",
        "4     0.07559651   671.3726      127.6825\n",
        "5     0.92502202  7423.3017     2440.2081\n",
        "6     0.07497798   601.6983      197.7919\n",
        "\n",
        "\n",
        "\n",
        "Dimensions : \n",
        "[1] 2553    9\n",
        "Table data : \n",
        "\n",
        "\n",
        "      language avg_popularity avg_accessibility\n",
        "1          CSS      1066.3730         279.25479\n",
        "2   JavaScript      2947.1455         555.51786\n",
        "3         Ruby      1626.4341         356.97164\n",
        "4          SQL       116.6489          96.33535\n",
        "5 CoffeeScript       964.0486         143.56952\n",
        "6        Shell       319.6098          57.37411\n",
        "\n",
        "\n",
        "\n",
        "Dimensions : \n",
        "[1] 86  3\n"
       ]
      }
     ],
     "prompt_number": 25
    },
    {
     "cell_type": "heading",
     "level": 4,
     "metadata": {},
     "source": [
      "Average Popularity(Stars) vs Average Accessibility (forks)"
     ]
    },
    {
     "cell_type": "markdown",
     "metadata": {},
     "source": [
      "<img src=\"images/AVG_PLOTVSAVGACC.png\" width = 900 height=900>"
     ]
    },
    {
     "cell_type": "markdown",
     "metadata": {},
     "source": [
      "Here we attempt to quantify a language by its accesibility as well as its effectiveness. As mentioned before we use forks as a measure of accessibility and stars as a measure of quality/effectiveness. For each language we assigned an avg. accesibility and avg. effectiveness score; these were computed by analyzing the repositories which were at least partly written in that language, using the proportion of that repo written in that language as a weight, and finding the product of the weight with the number of forks/stars for accesibility and effectiveness respectively. We then average these across repositories."
     ]
    },
    {
     "cell_type": "heading",
     "level": 3,
     "metadata": {},
     "source": [
      "Log-Log Effectiveness of Languages "
     ]
    },
    {
     "cell_type": "code",
     "collapsed": false,
     "input": [
      "%%R\n",
      "\n",
      "ggplot(ddply_Overall,aes(x= log(avg_popularity), y = log(avg_accessibility), colour = language)) + geom_point() + \n",
      "  geom_text(aes(label=language),hjust=0, vjust=0)"
     ],
     "language": "python",
     "metadata": {},
     "outputs": []
    },
    {
     "cell_type": "markdown",
     "metadata": {},
     "source": [
      "<img src=\"images/LOG_LOG_PLOT.png\" width = 900 height=900>"
     ]
    },
    {
     "cell_type": "heading",
     "level": 2,
     "metadata": {},
     "source": [
      "Domain Specific Analysis of Languages"
     ]
    },
    {
     "cell_type": "markdown",
     "metadata": {},
     "source": [
      "We have defined  Domain to contain two languages namely <b>Java</b> and <b>Ruby </b>"
     ]
    },
    {
     "cell_type": "code",
     "collapsed": false,
     "input": [
      "%%R\n",
      "\n",
      "###############utility functions############################\n",
      "update_hash_value <- function(h, key, value){\n",
      "  if(!has.key(key,h))\n",
      "    hash:::.set(h,keys=key,values=value)\n",
      "  else\n",
      "  {\n",
      "    temp <- values(h, keys=key)\n",
      "    hash:::.set(h,keys=key,values=(value+temp))\n",
      "  }\n",
      "}\n",
      " \n",
      "###########################################################\n",
      "    \n",
      "\n",
      "mongo <- mongoDbConnect(\"dataset\", host=\"localhost\")\n",
      "contribution_df <- dbGetQuery(mongo, \"contributionratios\", '{$or:[{\"contribution_ratio\": {$elemMatch:{\"language\":\"Java\"}}},{\"contribution_ratio\": {$elemMatch:{\"language\":\"Ruby\"}}}]}', skip=0, limit=100000)\n",
      "\n",
      "domain <- c(\"Java\",\"ruby\")\n",
      "\n",
      "#define a threshold for each languageto pick only those contribution ratios above this threshold \n",
      "threshold <- c(3.622832e-012, 3.622832e-012) \n",
      "\n",
      "contribution_ratios <- contribution_df[,c(\"author\",\"contribution_ratio\"), drop=FALSE]\n",
      "user_contribution_list <- c()\n",
      "for(i in 1:nrow(contribution_ratios))\n",
      "{\n",
      "  \n",
      "  Contribution_jsonObject <- fromJSON( contribution_ratios[2][[1]][i])\n",
      "  for(j in 1:length(Contribution_jsonObject))\n",
      "  {\n",
      "    if(\"language\" %in% names(Contribution_jsonObject[[j]]))\n",
      "    {\n",
      "      curr_language <- Contribution_jsonObject[[j]]$language\n",
      "      if(tolower(curr_language) %in% tolower(domain))\n",
      "      { \n",
      "        Language_index <- match(tolower(curr_language),tolower(domain))\n",
      "        threshold_language <- threshold[Language_index]\n",
      "        if(Contribution_jsonObject[[j]]$ratio > threshold_language)\n",
      "        {\n",
      "          user_contribution_list <- c(user_contribution_list,contribution_ratios[1][[1]][i] )\n",
      "        }\n",
      "      }\n",
      "    }\n",
      "  } \n",
      "}\n",
      "\n",
      "\n",
      "\n",
      "author_ratios <- data.frame(stringsAsFactors = FALSE)\n",
      "h_stars_ruby <- hash(keys=user_contribution_unique_list, values= rep(0, length(user_contribution_unique_list)))\n",
      "h_forks_ruby <- hash(keys=user_contribution_unique_list, values= rep(0, length(user_contribution_unique_list)))\n",
      "\n",
      "h_stars_java <- hash(keys=user_contribution_unique_list, values= rep(0, length(user_contribution_unique_list)))\n",
      "h_forks_java <- hash(keys=user_contribution_unique_list, values= rep(0, length(user_contribution_unique_list)))\n",
      "\n",
      "for(authorId in user_contribution_unique_list)\n",
      "{\n",
      "  cursor <- mongo.find(mongo_rmongodb, ns = \"dataset.usercommitactvities\", query=list(author=mongo.oid.from.string(authorId), language=list('$in'=c('Java','Ruby'))), fields=list(repository=1L,language=1L) )\n",
      "  \n",
      "  user_contributions_ratio <- mongo.find(mongo_rmongodb, ns = \"dataset.contributionratios\", query=list(author=mongo.oid.from.string(authorId)),fields=list(contribution_ratio=1L))\n",
      "  ratio_lang <- 0\n",
      "  \n",
      "  ratio_ruby <- 0\n",
      "  ratio_java <- 0\n",
      "  \n",
      "  if (mongo.cursor.next(user_contributions_ratio))\n",
      "  {\n",
      "    ratio <- mongo.cursor.value(user_contributions_ratio)\n",
      "    ##ratio <- mongo.bson.value( ratio, \"contribution_ratio\")\n",
      "    ratio_ruby <- find_lang_contrib_ratio(ratio, \"Ruby\")\n",
      "    ratio_java <- find_lang_contrib_ratio(ratio, \"Java\")\n",
      "  }\n",
      "  \n",
      "  while (mongo.cursor.next(cursor))\n",
      "  {\n",
      "    item <- mongo.cursor.value(cursor)\n",
      "    oid <- mongo.bson.value(item, \"repository\")\n",
      "    lang <- mongo.bson.value(item, \"language\")\n",
      "    ## get stars and forks from the user commit activities\n",
      "    stars <- find_stars_lang(ddply_sum_lineCount, mongo.oid.to.string(oid) , lang)\n",
      "    forks <- find_forks_lang(ddply_sum_lineCount, mongo.oid.to.string(oid) , lang)\n",
      "    if(lang == \"Ruby\")\n",
      "    {\n",
      "        stars  <- stars * ratio_ruby\n",
      "        forks  <- forks * ratio_ruby\n",
      "        update_hash_value(h_forks_ruby, authorId, forks) \n",
      "        update_hash_value(h_stars_ruby, authorId, stars) \n",
      "    }\n",
      "    else if(lang == \"Java\")\n",
      "    {\n",
      "        stars  <- stars * ratio_java\n",
      "        forks  <- forks * ratio_java\n",
      "        update_hash_value(h_forks_java, authorId, forks) \n",
      "        update_hash_value(h_stars_java, authorId, stars) \n",
      "    }\n",
      "    #cat(authorId, \"-\",mongo.oid.to.string(oid),\"-\",stars,\"-\",forks,\"-\",lang,\"\\n\")\n",
      "    cat(\".\")   \n",
      "  }\n",
      "  mongo.cursor.destroy(cursor)\n",
      "}\n",
      "\n",
      "forks_lang_ruby <- c()\n",
      "for(vals in  values(h_forks_ruby))\n",
      "  forks_lang_ruby <- c(forks_lang_ruby, vals)\n",
      "\n",
      "stars_lang_ruby <- c()\n",
      "for(vals in  values(h_stars_ruby))\n",
      "  stars_lang_ruby <- c(stars_lang_ruby, vals)\n",
      "\n",
      "forks_lang_java <- c()\n",
      "for(vals in  values(h_forks_java))\n",
      "  forks_lang_java <- c(forks_lang_java, vals)\n",
      "\n",
      "stars_lang_java <- c()\n",
      "for(vals in  values(h_stars_java))\n",
      "  stars_lang_java <- c(stars_lang_java, vals)\n",
      "\n",
      "par(new=TRUE)\n",
      "plot(stars_lang_ruby,forks_lang_ruby,ylim =c(0,25),xlim=c(0,100),xlab=\"stars\",ylab=\"forks\", col=\"red\")\n",
      "par(new=TRUE)\n",
      "plot(stars_lang_java,forks_lang_java,ylim =c(0,25),xlim=c(0,100),xlab=\"stars\",ylab=\"forks\", col=\"blue\")\n",
      "par(new=TRUE)\n",
      "l <- legend( \"topright\", inset = c(0,0.4) \n",
      "             , cex = 1.5\n",
      "             , bty = \"n\"\n",
      "             , legend = c(\"Ruby\", \"Java\")\n",
      "             , text.col = c(\"red\", \"blue\")\n",
      "             , pt.bg = c(\"red\",\"blue\")\n",
      "             , pch = c(21,22)\n",
      ")\n",
      "title(\"Measure of forks vs stars for both Java and Ruby\")\n",
      "\n",
      "plot(stars_lang_ruby,stars_lang_java,ylim =c(0,25),xlim=c(0,100),xlab=\"Stars for Ruby\",ylab=\"Stars for Java\", col=\"red\")\n",
      "title(\"Measure of Stars for Ruby vs Stars for Java \")"
     ],
     "language": "python",
     "metadata": {},
     "outputs": []
    },
    {
     "cell_type": "heading",
     "level": 3,
     "metadata": {},
     "source": [
      "a)    Contribution for Forks vs Contribution for Stars for a Domain - Java and Ruby"
     ]
    },
    {
     "cell_type": "markdown",
     "metadata": {},
     "source": [
      "<table border=none width = 1200>\n",
      "<tr>\n",
      "<td>\n",
      "<img src=\"images/forksvsstarsRuby.png\" width = 900 height=1000>\n",
      "</td>\n",
      "<td>\n",
      "<img src=\"images/forksvsstarsJava.png\" width = 900 height=1000>\n",
      "</td>\n",
      "</tr>\n",
      "</table>"
     ]
    },
    {
     "cell_type": "markdown",
     "metadata": {},
     "source": [
      "Now we took a developer centric approach, trying to determine the quality and accesibility of code written by developers in a certain domain. To link the stars/forks of the repositories to the contributions of individual developers we used the contribution ratio metric. We used the ratio of their contribution in that language to the overall amount of code written, took the product with the proportion of code written in that language ina repository, and multiplying by stars/forks. For a given developer and language we sum these calculations across repositories he's made a contribution to in that language."
     ]
    },
    {
     "cell_type": "heading",
     "level": 3,
     "metadata": {},
     "source": [
      "b)  Number of Users who have contributed to Javascript and CSS, Java and Ruby"
     ]
    },
    {
     "cell_type": "code",
     "collapsed": false,
     "input": [
      "print(\"User contributed to either JS or CSS\")\n",
      "print(length(unique(user_contribution_list)))\n",
      "print(\"User contributed to both\")\n",
      "print(length((user_contribution_list)) - length(unique(user_contribution_list)))\n",
      "print(\"537ff216280ef15170b59ba5\" %in% user_contribution_list)\n",
      "user_contribution_unique_list <- unique(user_contribution_list)"
     ],
     "language": "python",
     "metadata": {},
     "outputs": []
    },
    {
     "cell_type": "markdown",
     "metadata": {},
     "source": [
      "<b>Either JavaScript or CSS </b>: 9553 user <br/>\n",
      "<b>Both Javascript and CSS </b>: 1872 users"
     ]
    },
    {
     "cell_type": "markdown",
     "metadata": {},
     "source": [
      "similarly for Java and Ruby"
     ]
    },
    {
     "cell_type": "markdown",
     "metadata": {},
     "source": [
      "<b>Either Java or Ruby </b>: 11313 user <br/>\n",
      "<b>Both Java and Ruby </b>: 163 users"
     ]
    },
    {
     "cell_type": "heading",
     "level": 3,
     "metadata": {},
     "source": [
      "c)  Forks vs Stars across all languages"
     ]
    },
    {
     "cell_type": "markdown",
     "metadata": {},
     "source": [
      "<img src=\"images/Final_Plot_4.png\" width = 1000 height=800>"
     ]
    },
    {
     "cell_type": "heading",
     "level": 1,
     "metadata": {},
     "source": [
      "Temporal Language Analysis"
     ]
    },
    {
     "cell_type": "markdown",
     "metadata": {},
     "source": [
      "Time series analysis of contributions to various languages reveals interesting trends in the way languages evelove over time. The data required for this analysis is partly retrieved using map-reduce framework in monogodb and partly using code written in R. The map reduce code performs the following steps:\n",
      "<ol>\n",
      "<li>Group all commits made to all the repositories by language and by month and year</li>\n",
      "<li>For each of these groups find the sum of all the changes made</li>\n",
      "</ol>\n",
      "\n",
      "<b>Some interesting trends:</b> <br> While trying to identify trends in the commit activity for languages over time we found an interesting trend for `coffeescript`. The commit activity for this scripting language was initially low but there was a sudden peak in the commit activity in 2013, the year when `coffeescript` was ranked 29th among languages.\n",
      "\n",
      "The plots below show the trends in commit activity over time for `all languages`, `major programming languages` and `coffeescript`"
     ]
    },
    {
     "cell_type": "heading",
     "level": 3,
     "metadata": {},
     "source": [
      "a)    Temporal analysis for all languages over time"
     ]
    },
    {
     "cell_type": "markdown",
     "metadata": {},
     "source": [
      "We plot the number of commits for each language over the time."
     ]
    },
    {
     "cell_type": "markdown",
     "metadata": {},
     "source": [
      "<img src=\"images/Final_Plot.png\" width = 2000 height=2000>"
     ]
    },
    {
     "cell_type": "heading",
     "level": 3,
     "metadata": {},
     "source": [
      "b)    Temporal analysis for major programming languages"
     ]
    },
    {
     "cell_type": "markdown",
     "metadata": {},
     "source": [
      "We plot the number of commits for majorly used languages over the time."
     ]
    },
    {
     "cell_type": "markdown",
     "metadata": {},
     "source": [
      "<img src=\"images/Final_Plot_1.png\" width = 1000 height=900>"
     ]
    },
    {
     "cell_type": "heading",
     "level": 3,
     "metadata": {},
     "source": [
      "c)    Temporal analysis for `CoffeeScript`"
     ]
    },
    {
     "cell_type": "markdown",
     "metadata": {},
     "source": [
      "We have plotted the temporal data for coffeescript. We see peek a peek in 2013. This is because as of 2013 Coffescript was the 12th most popular language on GitHub in terms of project-count [5]. In 2013 it was also ranked 29th among languages, based on number of questions tagged at Stack Overflow."
     ]
    },
    {
     "cell_type": "markdown",
     "metadata": {},
     "source": [
      "<img src=\"images/Final_Plot_2.png\" width = 1000 height=500>"
     ]
    },
    {
     "cell_type": "heading",
     "level": 1,
     "metadata": {},
     "source": [
      "Relationship between Stars and Forks - Linear Regression"
     ]
    },
    {
     "cell_type": "markdown",
     "metadata": {},
     "source": [
      "We performed Linear Regression on the data to find the relationship between Stars and Forks. The results weren't good enough as we couldn't find correlation between the two entities. Results are as below:"
     ]
    },
    {
     "cell_type": "raw",
     "metadata": {},
     "source": [
      "Call:\n",
      "lm(formula = stars_arr ~ forks_arr, data = df)\n",
      "\n",
      "Residuals:\n",
      "   Min     1Q Median     3Q    Max \n",
      "-41683  -1062   -503    536  21504 \n",
      "\n",
      "Coefficients:\n",
      "             Estimate Std. Error t value Pr(>|t|)    \n",
      "(Intercept) 2.850e+03  1.166e+02   24.45   <2e-16 ***\n",
      "forks_arr   1.758e+00  6.089e-02   28.88   <2e-16 ***\n",
      "---\n",
      "Signif. codes:  0 \u2018***\u2019 0.001 \u2018**\u2019 0.01 \u2018*\u2019 0.05 \u2018.\u2019 0.1 \u2018 \u2019 1\n",
      "\n",
      "Residual standard error: 2868 on 803 degrees of freedom\n",
      "Multiple R-squared:  0.5095,\tAdjusted R-squared:  0.5088 \n",
      "F-statistic:   834 on 1 and 803 DF,  p-value: < 2.2e-16"
     ]
    },
    {
     "cell_type": "heading",
     "level": 1,
     "metadata": {},
     "source": [
      "Analysis on Developers"
     ]
    },
    {
     "cell_type": "heading",
     "level": 3,
     "metadata": {},
     "source": [
      "a) K Means Clustering on Developers Based on their Contribution Ratios to Languages"
     ]
    },
    {
     "cell_type": "heading",
     "level": 4,
     "metadata": {},
     "source": [
      "Number of Clusters : 5"
     ]
    },
    {
     "cell_type": "markdown",
     "metadata": {},
     "source": [
      "We tried to cluster users based on their contribution to Languages. The figure shows the various clusters with cluster ids."
     ]
    },
    {
     "cell_type": "markdown",
     "metadata": {},
     "source": [
      "<img src=\"images/Clusters.png\" width = 800 height=1000>"
     ]
    },
    {
     "cell_type": "code",
     "collapsed": false,
     "input": [],
     "language": "python",
     "metadata": {},
     "outputs": []
    },
    {
     "cell_type": "code",
     "collapsed": false,
     "input": [],
     "language": "python",
     "metadata": {},
     "outputs": []
    },
    {
     "cell_type": "code",
     "collapsed": false,
     "input": [],
     "language": "python",
     "metadata": {},
     "outputs": []
    },
    {
     "cell_type": "code",
     "collapsed": false,
     "input": [],
     "language": "python",
     "metadata": {},
     "outputs": []
    },
    {
     "cell_type": "code",
     "collapsed": false,
     "input": [],
     "language": "python",
     "metadata": {},
     "outputs": []
    },
    {
     "cell_type": "code",
     "collapsed": false,
     "input": [],
     "language": "python",
     "metadata": {},
     "outputs": []
    },
    {
     "cell_type": "code",
     "collapsed": false,
     "input": [],
     "language": "python",
     "metadata": {},
     "outputs": []
    },
    {
     "cell_type": "code",
     "collapsed": false,
     "input": [],
     "language": "python",
     "metadata": {},
     "outputs": []
    },
    {
     "cell_type": "code",
     "collapsed": false,
     "input": [],
     "language": "python",
     "metadata": {},
     "outputs": []
    },
    {
     "cell_type": "code",
     "collapsed": false,
     "input": [],
     "language": "python",
     "metadata": {},
     "outputs": []
    },
    {
     "cell_type": "heading",
     "level": 1,
     "metadata": {},
     "source": [
      "General Data Analysis on Github"
     ]
    },
    {
     "cell_type": "heading",
     "level": 3,
     "metadata": {},
     "source": [
      "Plot of number of Repositories per language Basis"
     ]
    },
    {
     "cell_type": "markdown",
     "metadata": {},
     "source": [
      "<img src=\"images/Repo-Count-vs-Lang.png\" width = 1000 height=800>"
     ]
    },
    {
     "cell_type": "heading",
     "level": 3,
     "metadata": {},
     "source": [
      "Plot for Number of Changes made per User per Language  "
     ]
    },
    {
     "cell_type": "markdown",
     "metadata": {},
     "source": [
      "<img src=\"images/Avg-Line-change-per-lang.png\" width = 1000 height=800>"
     ]
    },
    {
     "cell_type": "heading",
     "level": 3,
     "metadata": {},
     "source": [
      "Plot for Number of Developers contributing to each language"
     ]
    },
    {
     "cell_type": "markdown",
     "metadata": {},
     "source": [
      "<img src=\"images/Dev-vs-Lang.png\" width = 1000 height=800>"
     ]
    },
    {
     "cell_type": "raw",
     "metadata": {},
     "source": [
      "The project should produce one or more IPython Notebooks that include:\n",
      " + a description of a dataset you used, and how it was obtained;\n",
      " + a description of the overall project, and of analyses you attempted\n",
      " + a summary of experiences, insights, and lessons learned.\n",
      " + a summary of who did what for each of the grading criteria below.\n",
      "\n",
      "Since some have asked -- it is not necessary to upload your data.\n",
      "Also it is not necessary to upload extra programs or scripts you wrote\n",
      "for the project.  However, the notebooks should show how the results\n",
      "were obtained.\n",
      "\n",
      "Grading:\n",
      "\n",
      "The project will be graded mainly on effort invested. \n",
      "Think of it as something to put on your resume.\n",
      "Grading criteria:\n",
      "  * Data: data acquisition effort, data novelty.\n",
      "  * Analysis: IPython notebook construction effort,\n",
      "    data analysis effort, data analysis methods.\n",
      "  * Documentation: presentation effort, project summary effort. \n",
      "  * Overall: project methods, project creativity, project difficulty.\n",
      "\n",
      "The project summary should discuss all of these criteria, one-by-one.\n",
      "\n",
      "For Team Projects, it should say who did what.\n"
     ]
    },
    {
     "cell_type": "heading",
     "level": 1,
     "metadata": {},
     "source": [
      "Who Did What?"
     ]
    },
    {
     "cell_type": "markdown",
     "metadata": {},
     "source": [
      "Data: data acquisition effort, data novelty.\n",
      "  * Analysis: IPython notebook construction effort,\n",
      "    data analysis effort, data analysis methods.\n",
      "  * Documentation: presentation effort, project summary effort. \n",
      "  * Overall: project methods, project creativity, project difficulty.\n",
      "            \n"
     ]
    },
    {
     "cell_type": "heading",
     "level": 1,
     "metadata": {},
     "source": [
      "Summary, Experiences and lessons learnt"
     ]
    },
    {
     "cell_type": "code",
     "collapsed": false,
     "input": [],
     "language": "python",
     "metadata": {},
     "outputs": []
    },
    {
     "cell_type": "code",
     "collapsed": false,
     "input": [],
     "language": "python",
     "metadata": {},
     "outputs": []
    },
    {
     "cell_type": "code",
     "collapsed": false,
     "input": [],
     "language": "python",
     "metadata": {},
     "outputs": []
    },
    {
     "cell_type": "code",
     "collapsed": false,
     "input": [],
     "language": "python",
     "metadata": {},
     "outputs": []
    },
    {
     "cell_type": "heading",
     "level": 1,
     "metadata": {},
     "source": [
      "References"
     ]
    },
    {
     "cell_type": "markdown",
     "metadata": {},
     "source": [
      "[1] GitHub API reference, https://developer.github.com/v3/ <br>\n",
      "[2] The impact of language choice on github projects, http://corte.si/posts/code/devsurvey/ <br>\n",
      "[3] GitHub data analysis, http://www.r-bloggers.com/github-data-analysis/ <br>\n",
      "[4] Mining the Social Web, <a target=\"_blank\" title=\"http://nbviewer.ipython.org/github/ptwobrussell/Mining-the-Social-Web-2nd-Edition/blob/master/ipynb/Chapter%207%20-%20Mining%20GitHub.ipynb\" href=\"http://nbviewer.ipython.org/github/ptwobrussell/Mining-the-Social-Web-2nd-Edition/blob/master/ipynb/Chapter%207%20-%20Mining%20GitHub.ipynb\">Chapter 7 - Mining GitHub</a> <br>\n",
      "[5] Coffescript Data Analysis (2013) - http://en.wikipedia.org/wiki/CoffeeScript <br>\n",
      "[6] Job Queue - https://github.com/GotEmB/job-queue"
     ]
    }
   ],
   "metadata": {}
  }
 ]
}